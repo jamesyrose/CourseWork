{
 "cells": [
  {
   "cell_type": "markdown",
   "metadata": {},
   "source": [
    "# Part a"
   ]
  },
  {
   "cell_type": "code",
   "execution_count": 193,
   "metadata": {},
   "outputs": [
    {
     "name": "stderr",
     "output_type": "stream",
     "text": [
      "/home/rose/.local/lib/python3.6/site-packages/ipykernel_launcher.py:6: ParserWarning: Falling back to the 'python' engine because the 'c' engine does not support regex separators (separators > 1 char and different from '\\s+' are interpreted as regex); you can avoid this warning by specifying engine='python'.\n",
      "  \n"
     ]
    }
   ],
   "source": [
    "import pandas as pd\n",
    "import numpy as np\n",
    "import os\n",
    "\n",
    "unigram = pd.read_csv(\"hw4_unigram.txt\", names=[\"unigram\"])\n",
    "vocab = pd.read_csv(\"hw4_vocab.txt\", names=[\"vocab\"], sep=\"  \").join(unigram)\n",
    "bigram = pd.read_csv(\"hw4_bigram.txt\", names=[\"w1\", \"w2\", \"count_w1_w2\"], sep=\"\\t\")"
   ]
  },
  {
   "cell_type": "code",
   "execution_count": 194,
   "metadata": {},
   "outputs": [
    {
     "name": "stdout",
     "output_type": "stream",
     "text": [
      "             vocab      prob\n",
      "0                A  0.018407\n",
      "1              AND  0.017863\n",
      "2               AT  0.004313\n",
      "3               AS  0.003992\n",
      "4               AN  0.002999\n",
      "5              ARE  0.002990\n",
      "6            ABOUT  0.001926\n",
      "7            AFTER  0.001347\n",
      "8             ALSO  0.001310\n",
      "9              ALL  0.001182\n",
      "10              A.  0.001026\n",
      "11             ANY  0.000632\n",
      "12        AMERICAN  0.000612\n",
      "13         AGAINST  0.000596\n",
      "14         ANOTHER  0.000428\n",
      "15           AMONG  0.000374\n",
      "16             AGO  0.000357\n",
      "17       ACCORDING  0.000348\n",
      "18             AIR  0.000311\n",
      "19  ADMINISTRATION  0.000292\n",
      "20          AGENCY  0.000280\n",
      "21          AROUND  0.000277\n",
      "22       AGREEMENT  0.000263\n",
      "23         AVERAGE  0.000259\n",
      "24           ASKED  0.000258\n",
      "25         ALREADY  0.000249\n",
      "26            AREA  0.000231\n",
      "27        ANALYSTS  0.000226\n",
      "28       ANNOUNCED  0.000227\n",
      "29           ADDED  0.000221\n",
      "30        ALTHOUGH  0.000214\n",
      "31          AGREED  0.000212\n",
      "32           APRIL  0.000207\n",
      "33            AWAY  0.000202\n"
     ]
    }
   ],
   "source": [
    "# As seen in lectures slides the mle  = count(X=x)/ T where x is the vocab word and T is the total count\n",
    "vocab[\"prob\"] = vocab[\"unigram\"] / sum(vocab.unigram.values)\n",
    "print(vocab[[\"vocab\", \"prob\"]][vocab.vocab.str.startswith(\"A\")].reset_index(drop=True))\n",
    "\n",
    "# Bigram \n",
    "def group_by_normal(x): \n",
    "    x[\"P(w2|w1)\"] = x.count_w1_w2 / x.count_w1_w2.sum()\n",
    "    return x\n",
    "bigram = bigram.groupby(\"w1\").apply(group_by_normal)"
   ]
  },
  {
   "cell_type": "markdown",
   "metadata": {},
   "source": [
    "# Part b"
   ]
  },
  {
   "cell_type": "code",
   "execution_count": 166,
   "metadata": {},
   "outputs": [
    {
     "name": "stdout",
     "output_type": "stream",
     "text": [
      "      w1  w2  count_w1_w2  P(w2|w1)\n",
      "993    4   1      2371132  0.615020\n",
      "1058   4  70        51556  0.013372\n",
      "1064   4  79        45186  0.011720\n",
      "1060   4  73        44949  0.011659\n",
      "1050   4  61        36439  0.009451\n",
      "Most likely words to follow THE\n",
      "     vocab  unigram      prob\n",
      "1      <s>  3021866  0.036958\n",
      "70    BEEN   135582  0.001658\n",
      "79   AFTER   110102  0.001347\n",
      "73  THIRTY   120116  0.001469\n",
      "61     HAD   154509  0.001890\n"
     ]
    }
   ],
   "source": [
    "the_idx = vocab[vocab.vocab == \"THE\"].index[0]\n",
    "# bigram[\"P(w2|w1)\"] = bigram.count_w1_w2 / bigram.count_w1_w2.sum()\n",
    "bigram_info = bigram[bigram.w1 == the_idx + 1].sort_values(\"P(w2|w1)\", ascending=False).head(5) # index starts at 1 not 0\n",
    "print(bigram_info)\n",
    "w2 = bigram_info.w2.values\n",
    "print(\"Most likely words to follow THE\")\n",
    "print(vocab.loc[w2, :])"
   ]
  },
  {
   "cell_type": "markdown",
   "metadata": {},
   "source": [
    "# Part C"
   ]
  },
  {
   "cell_type": "code",
   "execution_count": 195,
   "metadata": {},
   "outputs": [
    {
     "name": "stdout",
     "output_type": "stream",
     "text": [
      "-64.50944034364878\n"
     ]
    }
   ],
   "source": [
    "# L u = log P u (last) P u (week) P u (the) . . . P u (one) P u (hundred) P u (points)i\n",
    "words = \"Last week the stock market fell by one hundred points\".upper().split(\" \")\n",
    "prob = np.prod(vocab[vocab.vocab.isin(words)].prob.values)\n",
    "L = np.log(prob)\n",
    "print(L)"
   ]
  },
  {
   "cell_type": "code",
   "execution_count": 196,
   "metadata": {},
   "outputs": [
    {
     "name": "stdout",
     "output_type": "stream",
     "text": [
      "-45.63283546892502\n"
     ]
    }
   ],
   "source": [
    "words = \"Last week the stock market fell by one hundred points\".upper().split(\" \")\n",
    "res = vocab[vocab.vocab == words[0]].prob.values[0]\n",
    "for i in range(1, len(words)):\n",
    "    curr = vocab[vocab.vocab == words[i]].index[0]  + 1  # Index starts at 1 \n",
    "    last = vocab[vocab.vocab == words[i-1]].index[0] + 1\n",
    "    vals = bigram[(bigram.w1 == last) & (bigram.w2 == curr)][\"P(w2|w1)\"].values\n",
    "    if len(vals > 0): \n",
    "        res  *= vals[0]\n",
    "    else: \n",
    "        res *= 0 \n",
    "L = np.log(res)\n",
    "print(L)"
   ]
  },
  {
   "cell_type": "markdown",
   "metadata": {},
   "source": [
    "# Part D"
   ]
  },
  {
   "cell_type": "code",
   "execution_count": 197,
   "metadata": {},
   "outputs": [
    {
     "name": "stdout",
     "output_type": "stream",
     "text": [
      "-41.64345971649364\n"
     ]
    }
   ],
   "source": [
    "# L u = log P u (last) P u (week) P u (the) . . . P u (one) P u (hundred) P u (points)i\n",
    "words = \"The nineteen officials sold fire insurance\".upper().split(\" \")\n",
    "prob = np.prod(vocab[vocab.vocab.isin(words)].prob.values)\n",
    "L = np.log(prob)\n",
    "print(L)"
   ]
  },
  {
   "cell_type": "code",
   "execution_count": 215,
   "metadata": {},
   "outputs": [
    {
     "name": "stdout",
     "output_type": "stream",
     "text": [
      "Pair Not found:  NINETEEN OFFICIALS\n",
      "Pair Not found:  SOLD FIRE\n",
      "-inf\n"
     ]
    },
    {
     "name": "stderr",
     "output_type": "stream",
     "text": [
      "/home/rose/.local/lib/python3.6/site-packages/ipykernel_launcher.py:12: RuntimeWarning: divide by zero encountered in log\n",
      "  if sys.path[0] == '':\n"
     ]
    }
   ],
   "source": [
    "words = \"<unk> The nineteen officials sold fire insurance .PERIOD\".upper().split(\" \")\n",
    "res = 1\n",
    "for i in range(1, len(words)):\n",
    "    curr = vocab[vocab.vocab == words[i]].index[0]  + 1  # Index starts at 1 \n",
    "    last = vocab[vocab.vocab == words[i-1]].index[0] + 1\n",
    "    vals = bigram[(bigram.w1 == last) & (bigram.w2 == curr)][\"P(w2|w1)\"].values\n",
    "    if len(vals > 0): \n",
    "        res  *= vals[0]\n",
    "    else: \n",
    "        print(\"Pair Not found: \", words[i - 1], words[i])\n",
    "        res *= 0 \n",
    "L = np.log(res)\n",
    "print(L)\n"
   ]
  },
  {
   "cell_type": "markdown",
   "metadata": {},
   "source": [
    "# Part e "
   ]
  },
  {
   "cell_type": "code",
   "execution_count": null,
   "metadata": {},
   "outputs": [],
   "source": []
  },
  {
   "cell_type": "code",
   "execution_count": 219,
   "metadata": {},
   "outputs": [
    {
     "name": "stdout",
     "output_type": "stream",
     "text": [
      "Max: -43.9012814590737\n",
      "Lambda:  0.301\n"
     ]
    }
   ],
   "source": [
    "lam = .5\n",
    "def mix_model(lam):\n",
    "    words = \"<unk> The nineteen officials sold fire insurance .PERIOD\".upper().split(\" \")\n",
    "    res = 1 \n",
    "    for i in range(1, len(words)):\n",
    "        curr = vocab[vocab.vocab == words[i]].index[0]  + 1\n",
    "        last = vocab[vocab.vocab == words[i-1]].index[0] + 1\n",
    "        vals = bigram[(bigram.w1 == last) & (bigram.w2 == curr)][\"P(w2|w1)\"].values\n",
    "        if len(vals > 0): \n",
    "            p_w_w = vals[0]\n",
    "        else: \n",
    "            p_w_w = 0\n",
    "        p_w = vocab[vocab.vocab == words[i]].prob.values[0]\n",
    "        res *= (p_w * (1 - lam) + p_w_w *  lam)\n",
    "    L = np.log(res)\n",
    "    return L \n",
    "hist = []\n",
    "lam_opt = np.arange(0, 1, .001)\n",
    "curr_max = -9999999\n",
    "best_lam = 0\n",
    "for lam in lam_opt: \n",
    "    L = mix_model(lam)\n",
    "    hist +=[L]\n",
    "    if L > curr_max: \n",
    "        curr_max = np.copy(L)\n",
    "        best_lam = np.copy(lam)\n",
    "print(f\"Max: {curr_max}\")\n",
    "print(f\"Lambda:  {best_lam}\")"
   ]
  },
  {
   "cell_type": "code",
   "execution_count": 221,
   "metadata": {},
   "outputs": [
    {
     "data": {
      "text/plain": [
       "[<matplotlib.lines.Line2D at 0x7fdc3ba3f940>]"
      ]
     },
     "execution_count": 221,
     "metadata": {},
     "output_type": "execute_result"
    },
    {
     "data": {
      "image/png": "[encoded data removed]",
      "text/plain": [
       "<Figure size 432x288 with 1 Axes>"
      ]
     },
     "metadata": {
      "needs_background": "light"
     },
     "output_type": "display_data"
    }
   ],
   "source": [
    "import matplotlib.pyplot as plt\n",
    "plt.plot(lam_opt, hist)"
   ]
  },
  {
   "cell_type": "raw",
   "metadata": {},
   "source": []
  },
  {
   "cell_type": "code",
   "execution_count": null,
   "metadata": {},
   "outputs": [],
   "source": []
  },
  {
   "cell_type": "code",
   "execution_count": null,
   "metadata": {},
   "outputs": [],
   "source": []
  },
  {
   "cell_type": "code",
   "execution_count": null,
   "metadata": {},
   "outputs": [],
   "source": []
  }
 ],
 "metadata": {
  "kernelspec": {
   "display_name": "Python 3",
   "language": "python",
   "name": "python3"
  },
  "language_info": {
   "codemirror_mode": {
    "name": "ipython",
    "version": 3
   },
   "file_extension": ".py",
   "mimetype": "text/x-python",
   "name": "python",
   "nbconvert_exporter": "python",
   "pygments_lexer": "ipython3",
   "version": "3.6.9"
  }
 },
 "nbformat": 4,
 "nbformat_minor": 4
}
