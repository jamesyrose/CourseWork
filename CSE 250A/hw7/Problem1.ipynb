{
 "cells": [
  {
   "cell_type": "code",
   "execution_count": 1,
   "metadata": {},
   "outputs": [],
   "source": [
    "import pandas as pd\n",
    "import numpy as np\n",
    "import string\n",
    "import os\n"
   ]
  },
  {
   "cell_type": "code",
   "execution_count": null,
   "metadata": {},
   "outputs": [],
   "source": [
    "class viterbi: \n",
    "    def __init__(self, path_to_obs:str): \n",
    "        \"\"\"\n",
    "        Path to Obs is file path to observations \n",
    "        \"\"\"\n",
    "        self.trans = pd.read_csv(\"transitionMatrix.txt\", sep=\" \", usecols=range(27), names=range(27)).to_numpy()\n",
    "        self.initial  = pd.read_csv(\"initialStateDistribution.txt\", sep=\" \", names=[\"a\"]).to_numpy().reshape(27, )\n",
    "        self.emission =pd.read_csv(\"emissionMatrix.txt\", sep=\"\\t\", names=[\"a\", \"b\"]).to_numpy()\n",
    "        self.obs = np.array([int(o) for  o in open(path_to_obs).read().strip().split(\" \")])\n",
    "        self.n = self.obs.shape[0]\n",
    "        self.m = self.trans.shape[0]\n",
    "        \n",
    "        # Answers \n",
    "        self.res = np.zeros(self.n)\n",
    "        self.msg = \"\"\n",
    "\n",
    "        \n",
    "        # Test \n",
    "        x = self.initial.shape[0]\n",
    "        assert type(self.obs)  == np.ndarray\n",
    "        assert len(self.obs.shape) == 1\n",
    "        assert self.initial.shape == (x,)\n",
    "        assert self.trans.shape == (x, x)\n",
    "        assert self.emission.shape[0] == x\n",
    "    \n",
    "    def solve(self):\n",
    "        T = np.zeros((self.n, self.m))\n",
    "        T[0, :] = np.log(self.initial * self.emission[:, self.obs[0]])\n",
    "\n",
    "        T2 = np.zeros((self.n - 1, self.m))\n",
    "\n",
    "        for t in range(1, self.n):\n",
    "            for j in range(self.m):\n",
    "                prob = T[t - 1] + np.log(self.trans[:, j]) + np.log(self.emission[j, self.obs[t]])\n",
    "                T2[t - 1, j] = np.argmax(prob)\n",
    "                T[t, j] = np.max(prob)\n",
    "\n",
    "        zt = np.argmax(T[self.n - 1, :])\n",
    "        self.res[0] = zt\n",
    "\n",
    "        # Backtrack\n",
    "        idx = 1\n",
    "        for i in range(self.n - 2, -1, -1):\n",
    "            self.res[idx] = T2[i, int(zt)]\n",
    "            zt = T2[i, int(zt)]\n",
    "            idx += 1\n",
    "\n",
    "        # Flip it back\n",
    "        self.res = np.flip(self.res, axis=0)\n",
    "        \n",
    "        return self.res\n",
    "    \n",
    "    def decode(self): \n",
    "        assert sum(self.res) != 0\n",
    "        letters =  [a for a in string.ascii_lowercase] + [\" \"]\n",
    "        for x in self.res: \n",
    "            l = letters[int(x)]\n",
    "            if len(list(self.msg)) > 0: \n",
    "                if list(self.msg)[-1] != l: \n",
    "                     self.msg += l\n",
    "            else: \n",
    "                self.msg += l\n",
    "        return self.msg\n",
    "        \n",
    "        \n",
    "\n",
    "x = viterbi(\"observations.txt\")\n",
    "x.solve()\n",
    "x.decode()"
   ]
  },
  {
   "cell_type": "code",
   "execution_count": null,
   "metadata": {},
   "outputs": [],
   "source": []
  },
  {
   "cell_type": "code",
   "execution_count": null,
   "metadata": {},
   "outputs": [],
   "source": []
  },
  {
   "cell_type": "code",
   "execution_count": null,
   "metadata": {},
   "outputs": [],
   "source": []
  },
  {
   "cell_type": "code",
   "execution_count": null,
   "metadata": {},
   "outputs": [],
   "source": []
  },
  {
   "cell_type": "code",
   "execution_count": null,
   "metadata": {},
   "outputs": [],
   "source": []
  },
  {
   "cell_type": "code",
   "execution_count": null,
   "metadata": {},
   "outputs": [],
   "source": []
  },
  {
   "cell_type": "code",
   "execution_count": null,
   "metadata": {},
   "outputs": [],
   "source": []
  },
  {
   "cell_type": "code",
   "execution_count": null,
   "metadata": {},
   "outputs": [],
   "source": []
  },
  {
   "cell_type": "code",
   "execution_count": null,
   "metadata": {},
   "outputs": [],
   "source": []
  }
 ],
 "metadata": {
  "kernelspec": {
   "display_name": "Python 3",
   "language": "python",
   "name": "python3"
  },
  "language_info": {
   "codemirror_mode": {
    "name": "ipython",
    "version": 3
   },
   "file_extension": ".py",
   "mimetype": "text/x-python",
   "name": "python",
   "nbconvert_exporter": "python",
   "pygments_lexer": "ipython3",
   "version": "3.6.9"
  }
 },
 "nbformat": 4,
 "nbformat_minor": 4
}
