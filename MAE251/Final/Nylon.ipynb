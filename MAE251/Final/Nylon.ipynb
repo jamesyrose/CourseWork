{
 "cells": [
  {
   "cell_type": "code",
   "execution_count": 1,
   "metadata": {},
   "outputs": [],
   "source": [
    "data = {'C': [(-0.0529, 0.0035, 0.0),\n",
    "          (0.047, 0.0032, 0.0697),\n",
    "          (-0.0366, -0.0025, 0.1456),\n",
    "          (0.0592, 0.004, 0.2149),\n",
    "          (0.0692, 0.0046, 0.3544),\n",
    "          (-0.0307, -0.002, 0.4242), (0.4471, -0.0035, 0.49),\n",
    "          (0.547, 0.0032, 0.4202),\n",
    "          (0.4634, -0.0025, 0.3444),\n",
    "          (0.5592, 0.004, 0.2751),\n",
    "          (0.5692, 0.0046, 0.1355),\n",
    "          (0.4693, -0.002, 0.0658),\n",
    "          (-0.0529, 0.4965, 0.2144),\n",
    "          (0.047, 0.5031, 0.2841),\n",
    "          (-0.0366, 0.4976, 0.36),\n",
    "          (0.0592, 0.504, 0.4293),\n",
    "          (0.0692, 0.5046, 0.5688),\n",
    "          (-0.0307, 0.4979, 0.6385),\n",
    "          (0.4471, 0.4965, 0.7043),\n",
    "          (0.547, 0.5031, 0.6346),\n",
    "          (0.4634, 0.4976, 0.5587),\n",
    "          (0.5592, 0.504, 0.4894),\n",
    "          (0.5692, 0.5046, 0.3499),\n",
    "          (0.4693, 0.4979, 0.2802)\n",
    "          ],\n",
    "         'N': [(-0.0082, -0.0006, 0.2813), (0.4918, -0.0006, 0.2087), (-0.0082, 0.4994, 0.4956), (0.4918, 0.4994, 0.4231)],\n",
    "         'O': [(0.1893, 0.0127, 0.2087), (0.689, 0.0127, 0.2813), (0.1893, 0.512, 0.423), (0.6893, 0.512, 0.4956)]\n",
    "         }"
   ]
  },
  {
   "cell_type": "code",
   "execution_count": 2,
   "metadata": {},
   "outputs": [],
   "source": [
    "import pandas as pd\n",
    "import numpy as np"
   ]
  },
  {
   "cell_type": "code",
   "execution_count": 8,
   "metadata": {},
   "outputs": [],
   "source": [
    "df = pd.read_csv(\"nylonref.txt\", sep =\"\\t\", names = [\"h\", \"k\", \"l\"]) \n",
    "refs = []\n",
    "for h, k, l in zip(df.h, df.k, df.l):\n",
    "    refs.append((h,k,l))\n"
   ]
  },
  {
   "cell_type": "code",
   "execution_count": 17,
   "metadata": {},
   "outputs": [],
   "source": [
    "content = \"\"\"\n",
    "0\t0\t1\t0.4021\t1.5770\t0.048891056\t0.048910555\t2.8024\t5.6047\t0.0317\t5.8964\t7.9175\t6.9083\n",
    "-1\t0\t1\t1.0843\t0.9603\t0.080284263\t0.080370761\t4.6049\t9.2098\t0.0521\t5.7284\t7.7812\t6.7577\n",
    "1\t0\t0\t1.2912\t0.8800\t0.087611161\t0.08772363\t5.0262\t10.0524\t0.0568\t5.6793\t7.7407\t6.7132\n",
    "0\t1\t0\t1.4908\t0.8190\t0.094139194\t0.094278798\t5.4018\t10.8036\t0.0611\t5.6327\t7.7020\t6.6708\n",
    "0\t0\t2\t1.6085\t0.7885\t0.097782112\t0.097938608\t5.6115\t11.2229\t0.0634\t5.6056\t7.6793\t6.6461\n",
    "-1\t0\t2\t1.6816\t0.7712\t0.099980403\t0.100147726\t5.7380\t11.4761\t0.0648\t5.5888\t7.6653\t6.6308\n",
    "0\t1\t1\t1.8930\t0.7268\t0.106077911\t0.106277866\t6.0893\t12.1785\t0.0688\t5.5410\t7.6251\t6.5870\n",
    "1\t0\t1\t2.3024\t0.6590\t0.116989482\t0.117258003\t6.7184\t13.4368\t0.0759\t5.4507\t7.5482\t6.5036\n",
    "-1\t1\t1\t2.5752\t0.6232\t0.123724496\t0.124042347\t7.1071\t14.2142\t0.0802\t5.3921\t7.4979\t6.4492\n",
    "1\t1\t0\t2.7821\t0.5995\t0.12859978\t0.128956906\t7.3887\t14.7774\t0.0834\t5.3485\t7.4601\t6.4085\n",
    "-1\t0\t3\t3.0831\t0.5695\t0.135378248\t0.135795215\t7.7805\t15.5610\t0.0878\t5.2864\t7.4057\t6.3502\n",
    "0\t1\t2\t3.0993\t0.5680\t0.135733302\t0.136153577\t7.8010\t15.6021\t0.0880\t5.2831\t7.4028\t6.3471\n",
    "-1\t1\t2\t3.1724\t0.5614\t0.137325413\t0.137760737\t7.8931\t15.7862\t0.0891\t5.2682\t7.3897\t6.3331\n",
    "0\t0\t3\t3.6190\t0.5257\t0.146673168\t0.147204223\t8.4342\t16.8684\t0.0951\t5.1793\t7.3107\t6.2488\n",
    "1\t1\t1\t3.7933\t0.5134\t0.150162335\t0.150732467\t8.6363\t17.2727\t0.0974\t5.1454\t7.2803\t6.2165\n",
    "1\t0\t2\t4.1178\t0.4928\t0.156454572\t0.15709999\t9.0012\t18.0023\t0.1015\t5.0835\t7.2244\t6.1572\n",
    "-2\t0\t2\t4.3372\t0.4802\t0.160568527\t0.161266627\t9.2399\t18.4798\t0.1041\t5.0425\t7.1870\t6.1178\n",
    "-2\t0\t1\t4.3490\t0.4795\t0.160786261\t0.161487227\t9.2525\t18.5051\t0.1043\t5.0403\t7.1850\t6.1157\n",
    "-1\t1\t3\t4.5740\t0.4676\t0.164892261\t0.165648776\t9.4910\t18.9820\t0.1069\t4.9990\t7.1471\t6.0757\n",
    "0\t1\t3\t5.1099\t0.4424\t0.174284842\t0.175179448\t10.0370\t20.0741\t0.1130\t4.9034\t7.0582\t5.9826\n",
    "-2\t0\t3\t5.1297\t0.4415\t0.174622314\t0.175522176\t10.0567\t20.1134\t0.1132\t4.9000\t7.0550\t5.9792\n",
    "2\t0\t0\t5.1650\t0.4400\t0.175222322\t0.17613158\t10.0916\t20.1832\t0.1136\t4.8938\t7.0492\t5.9732\n",
    "1\t1\t2\t5.6087\t0.4223\t0.182593047\t0.183623194\t10.5208\t21.0417\t0.1184\t4.8178\t6.9774\t5.8984\n",
    "2\t-1\t-2\t5.8281\t0.4142\t0.186130169\t0.187222007\t10.7270\t21.4541\t0.1207\t4.7812\t6.9424\t5.8621\n",
    "-2\t1\t1\t5.8398\t0.4138\t0.186318033\t0.187413216\t10.7380\t21.4760\t0.1208\t4.7792\t6.9405\t5.8602\n",
    "0\t2\t0\t5.9634\t0.4095\t0.188278388\t0.189408889\t10.8523\t21.7047\t0.1221\t4.7589\t6.9210\t5.8400\n",
    "0\t2\t1\t6.3655\t0.3964\t0.194522716\t0.195770848\t11.2168\t22.4337\t0.1261\t4.6938\t6.8581\t5.7751\n",
    "0\t0\t4\t6.4338\t0.3942\t0.195564224\t0.196832751\t11.2777\t22.5554\t0.1268\t4.6830\t6.8475\t5.7642\n",
    "-2\t1\t3\t6.6205\t0.3886\t0.198381301\t0.199706121\t11.4423\t22.8846\t0.1287\t4.6535\t6.8187\t5.7346\n",
    "2\t1\t0\t6.6558\t0.3876\t0.198909653\t0.200245216\t11.4732\t22.9464\t0.1290\t4.6480\t6.8133\t5.7291\n",
    "1\t0\t3\t6.7375\t0.3853\t0.200125455\t0.201485965\t11.5443\t23.0886\t0.1298\t4.6353\t6.8008\t5.7163\n",
    "2\t0\t1\t6.7852\t0.3839\t0.200833696\t0.202208883\t11.5857\t23.1714\t0.1302\t4.6279\t6.7936\t5.7088\n",
    "-1\t2\t1\t7.0477\t0.3767\t0.204681007\t0.206137803\t11.8108\t23.6217\t0.1327\t4.5877\t6.7538\t5.6682\n",
    "1\t2\t0\t7.2546\t0.3713\t0.207664313\t0.209186613\t11.9855\t23.9710\t0.1347\t4.5565\t6.7228\t5.6365\n",
    "0\t2\t2\t7.5718\t0.3634\t0.212155822\t0.213780475\t12.2487\t24.4974\t0.1376\t4.5096\t6.6757\t5.5887\n",
    "-1\t2\t2\t7.6450\t0.3617\t0.213177936\t0.214826517\t12.3087\t24.6173\t0.1382\t4.4990\t6.6650\t5.5777\n",
    "1\t1\t3\t8.2283\t0.3486\t0.221161447\t0.223005248\t12.7773\t25.5545\t0.1434\t4.4158\t6.5804\t5.4922\n",
    "1\t2\t1\t8.2658\t0.3478\t0.221664815\t0.223521428\t12.8068\t25.6137\t0.1438\t4.4106\t6.5750\t5.4868\n",
    "2\t1\t1\t8.2761\t0.3476\t0.221802528\t0.223662656\t12.8149\t25.6299\t0.1438\t4.4091\t6.5735\t5.4853\n",
    "-1\t2\t3\t9.0465\t0.3325\t0.231896575\t0.234026955\t13.4088\t26.8175\t0.1504\t4.3047\t6.4651\t5.3765\n",
    "2\t0\t2\t9.2097\t0.3295\t0.233978964\t0.236168248\t13.5314\t27.0629\t0.1517\t4.2832\t6.4426\t5.3540\n",
    "-3\t0\t2\t9.5754\t0.3232\t0.238578821\t0.240902149\t13.8027\t27.6054\t0.1547\t4.2360\t6.3927\t5.3043\n",
    "0\t2\t3\t9.5824\t0.3230\t0.23866665\t0.24099259\t13.8079\t27.6157\t0.1548\t4.2351\t6.3917\t5.3034\n",
    "1\t2\t2\t10.0812\t0.3150\t0.244799478\t0.247312873\t14.1700\t28.3400\t0.1588\t4.1726\t6.3249\t5.2371\n",
    "-3\t0\t1\t10.1962\t0.3132\t0.246191616\t0.248748958\t14.2523\t28.5045\t0.1597\t4.1585\t6.3097\t5.2221\n",
    "-2\t2\t2\t10.3006\t0.3116\t0.247448991\t0.250046477\t14.3266\t28.6532\t0.1605\t4.1458\t6.2959\t5.2085\n",
    "-2\t2\t1\t10.3124\t0.3114\t0.247590333\t0.250192359\t14.3350\t28.6699\t0.1606\t4.1444\t6.2943\t5.2070\n",
    "2\t1\t2\t10.7005\t0.3057\t0.252206946\t0.254960252\t14.6081\t29.2163\t0.1636\t4.0978\t6.2437\t5.1571\n",
    "-3\t1\t2\t11.0662\t0.3006\t0.2564801\t0.259378716\t14.8613\t29.7226\t0.1663\t4.0551\t6.1967\t5.1111\n",
    "2\t2\t0\t11.1284\t0.2998\t0.25719956\t0.260123149\t14.9040\t29.8079\t0.1668\t4.0479\t6.1888\t5.1033\n",
    "3\t0\t0\t11.6212\t0.2933\t0.262833484\t0.265957769\t15.2383\t30.4765\t0.1704\t3.9920\t6.1267\t5.0427\n",
    "-3\t1\t1\t11.6870\t0.2925\t0.263576364\t0.2667278\t15.2824\t30.5648\t0.1709\t3.9847\t6.1185\t5.0347\n",
    "2\t0\t3\t12.4384\t0.2835\t0.271916915\t0.275384443\t15.7784\t31.5567\t0.1763\t3.9032\t6.0264\t4.9455\n",
    "1\t2\t3\t12.7008\t0.2806\t0.274770721\t0.278351237\t15.9484\t31.8967\t0.1782\t3.8756\t5.9949\t4.9151\n",
    "2\t2\t1\t12.7486\t0.2801\t0.275286987\t0.278888211\t15.9791\t31.9582\t0.1785\t3.8707\t5.9892\t4.9096\n",
    "3\t1\t0\t13.1121\t0.2762\t0.279183861\t0.282944069\t16.2115\t32.4230\t0.1811\t3.8333\t5.9461\t4.8682\n",
    "0\t3\t0\t13.4176\t0.2730\t0.282417582\t0.286313352\t16.4045\t32.8091\t0.1832\t3.8025\t5.9104\t4.8339\n",
    "0\t3\t1\t13.8197\t0.2690\t0.286618259\t0.290695129\t16.6556\t33.3112\t0.1859\t3.7629\t5.8640\t4.7896\n",
    "3\t0\t1\t13.8505\t0.2687\t0.286937693\t0.291028568\t16.6747\t33.3494\t0.1861\t3.7599\t5.8605\t4.7862\n",
    "2\t1\t3\t13.9292\t0.2679\t0.287751623\t0.291878335\t16.7234\t33.4468\t0.1866\t3.7523\t5.8515\t4.7777\n",
    "-1\t3\t1\t14.5019\t0.2626\t0.293607312\t0.297998293\t17.0740\t34.1481\t0.1904\t3.6978\t5.7869\t4.7163\n",
    "1\t3\t0\t14.7088\t0.2607\t0.295694786\t0.300182746\t17.1992\t34.3984\t0.1918\t3.6786\t5.7640\t4.6946\n",
    "0\t3\t2\t15.0261\t0.2580\t0.298866245\t0.303504377\t17.3895\t34.7790\t0.1938\t3.6496\t5.7291\t4.6616\n",
    "-1\t3\t2\t15.0992\t0.2573\t0.299592677\t0.304265692\t17.4331\t34.8663\t0.1943\t3.6430\t5.7211\t4.6541\n",
    "2\t2\t2\t15.1731\t0.2567\t0.30032467\t0.305033018\t17.4771\t34.9542\t0.1948\t3.6363\t5.7130\t4.6465\n",
    "3\t1\t1\t15.3414\t0.2553\t0.301985806\t0.306775028\t17.5769\t35.1538\t0.1958\t3.6213\t5.6948\t4.6293\n",
    "1\t3\t1\t15.7200\t0.2522\t0.305689761\t0.310662784\t17.7997\t35.5993\t0.1982\t3.5879\t5.6542\t4.5911\n",
    "-3\t2\t1\t16.1596\t0.2488\t0.309933966\t0.315123577\t18.0553\t36.1105\t0.2010\t3.5501\t5.6077\t4.5477\n",
    "3\t0\t2\t16.8840\t0.2434\t0.316805476\t0.322359576\t18.4698\t36.9397\t0.2055\t3.4899\t5.5328\t4.4779\n",
    "1\t3\t2\t17.5354\t0.2388\t0.322858675\t0.328748365\t18.8359\t37.6718\t0.2094\t3.4378\t5.4671\t4.4170\n",
    "3\t2\t0\t17.5846\t0.2385\t0.323311292\t0.329226631\t18.8633\t37.7266\t0.2097\t3.4339\t5.4622\t4.4125\n",
    "-2\t3\t1\t17.7666\t0.2372\t0.324979865\t0.330990437\t18.9644\t37.9287\t0.2108\t3.4197\t5.4442\t4.3958\n",
    "3\t1\t2\t18.3749\t0.2333\t0.330496441\t0.336829525\t19.2989\t38.5978\t0.2143\t3.3733\t5.3847\t4.3411\n",
    "2\t3\t0\t18.5826\t0.2320\t0.332359073\t0.338803738\t19.4120\t38.8240\t0.2155\t3.3578\t5.3647\t4.3228\n",
    "3\t2\t1\t19.8139\t0.2247\t0.34319381\t0.350315124\t20.0716\t40.1432\t0.2226\t3.2693\t5.2491\t4.2173\n",
    "2\t3\t1\t20.2028\t0.2225\t0.346545617\t0.353886005\t20.2762\t40.5523\t0.2247\t3.2426\t5.2136\t4.1852\n",
    "4\t0\t0\t20.6600\t0.2200\t0.350444645\t0.358045814\t20.5145\t41.0290\t0.2273\t3.2118\t5.1724\t4.1480\n",
    "0\t4\t0\t23.8535\t0.2048\t0.376556777\t0.386076672\t22.1206\t44.2411\t0.2442\t3.0157\t4.9024\t3.9072\n",
    "\"\"\""
   ]
  },
  {
   "cell_type": "code",
   "execution_count": 20,
   "metadata": {},
   "outputs": [],
   "source": [
    "from io import StringIO\n",
    "name = ['h', 'k', 'l', '1/d2', 'd', 'sin q', 'q rad', 'q deg', ' 2q', 'sinq/l', 'C', 'O', 'N']\n",
    "df = pd.read_csv(StringIO(content), sep=\"\\t\", names = name)"
   ]
  },
  {
   "cell_type": "code",
   "execution_count": 40,
   "metadata": {},
   "outputs": [],
   "source": [
    "def structureFactor(x, data): \n",
    "    \"\"\"\n",
    "    :param x: (h, k, l, f_C, f_O, f_N) where f_{} is the scattering factor\n",
    "    :param data: coordinates of the data in dictionary keyed on element name, value list of tuples \n",
    "    \n",
    "    \n",
    "    data = {'C': [(-0.0529, 0.0035, 0.0),\n",
    "              (0.047, 0.0032, 0.0697),\n",
    "              (-0.0366, -0.0025, 0.1456),\n",
    "              (0.0592, 0.004, 0.2149),\n",
    "              (0.0692, 0.0046, 0.3544),\n",
    "              (-0.0307, -0.002, 0.4242), (0.4471, -0.0035, 0.49),\n",
    "              (0.547, 0.0032, 0.4202),\n",
    "              (0.4634, -0.0025, 0.3444),\n",
    "              (0.5592, 0.004, 0.2751),\n",
    "              (0.5692, 0.0046, 0.1355),\n",
    "              (0.4693, -0.002, 0.0658),\n",
    "              (-0.0529, 0.4965, 0.2144),\n",
    "              (0.047, 0.5031, 0.2841),\n",
    "              (-0.0366, 0.4976, 0.36),\n",
    "              (0.0592, 0.504, 0.4293),\n",
    "              (0.0692, 0.5046, 0.5688),\n",
    "              (-0.0307, 0.4979, 0.6385),\n",
    "              (0.4471, 0.4965, 0.7043),\n",
    "              (0.547, 0.5031, 0.6346),\n",
    "              (0.4634, 0.4976, 0.5587),\n",
    "              (0.5592, 0.504, 0.4894),\n",
    "              (0.5692, 0.5046, 0.3499),\n",
    "              (0.4693, 0.4979, 0.2802)\n",
    "              ],\n",
    "             'N': [(-0.0082, -0.0006, 0.2813), (0.4918, -0.0006, 0.2087), (-0.0082, 0.4994, 0.4956), (0.4918, 0.4994, 0.4231)],\n",
    "             'O': [(0.1893, 0.0127, 0.2087), (0.689, 0.0127, 0.2813), (0.1893, 0.512, 0.423), (0.6893, 0.512, 0.4956)]\n",
    "             }\n",
    "    \"\"\"\n",
    "    def expTerm(coords, h, k, l): \n",
    "        \"\"\"\n",
    "        (exp(first coords) + exp (second coord) .... exp(last term ))\n",
    "        \n",
    "        :param coords: [(x, y, z), (x, y, z) .... (x, y, z)] for given element  \n",
    "        :param h, k, l: (int)\n",
    "        \"\"\"\n",
    "        tot = 0\n",
    "        # Iterates over elements coords and computes the exponent term, adds to total\n",
    "        for coord in coords: \n",
    "            a,b,c = coord\n",
    "            tot += np.exp(2 * np.pi * 1j * (a *h + b * k + c * l))\n",
    "            \n",
    "        # Checking if one term is just super small\n",
    "        tot = complex(tot)\n",
    "        if abs(tot.imag) <= 1e-10: \n",
    "            tot = tot.real\n",
    "        if abs(tot.real) <= 1e-10: \n",
    "            tot = tot.imag\n",
    "        return tot\n",
    "    h, k, l, f_c, f_o, f_n = x \n",
    "\n",
    "    # Multiplies Scattering Factor by the exponent term \n",
    "    # f_{element} = (exp(first coords) + exp (second coord) .... exp(last term ))\n",
    "    cBuff = f_c * expTerm(data[\"C\"], h, k, l) \n",
    "    oBuff = f_o * expTerm(data[\"O\"], h, k, l)\n",
    "    nBuff = f_n * expTerm(data[\"N\"], h, k, l)\n",
    "    return cBuff + oBuff + nBuff\n",
    "df[\"F\"] = df[[\"h\", \"k\", \"l\", \"C\", \"O\", \"N\"]].apply(lambda x: structureFactor(x, data), axis=1)\n",
    "    "
   ]
  },
  {
   "cell_type": "code",
   "execution_count": 41,
   "metadata": {},
   "outputs": [],
   "source": [
    "df[\"F2\"] = df[[\"F\"]].apply(lambda x: (x[0] * x[0].conjugate()).real, axis=1)"
   ]
  },
  {
   "cell_type": "code",
   "execution_count": 42,
   "metadata": {},
   "outputs": [],
   "source": [
    "df[[\"F\", \"F2\"]].to_csv(\"temp.csv\", index=False)"
   ]
  },
  {
   "cell_type": "code",
   "execution_count": 51,
   "metadata": {},
   "outputs": [
    {
     "data": {
      "text/plain": [
       "19"
      ]
     },
     "execution_count": 51,
     "metadata": {},
     "output_type": "execute_result"
    }
   ],
   "source": []
  },
  {
   "cell_type": "code",
   "execution_count": 57,
   "metadata": {},
   "outputs": [
    {
     "data": {
      "image/png": "[encoded data removed]",
      "text/plain": [
       "<Figure size 720x720 with 1 Axes>"
      ]
     },
     "metadata": {
      "needs_background": "light"
     },
     "output_type": "display_data"
    }
   ],
   "source": [
    "\n",
    "import matplotlib.pyplot as plt\n",
    "plt.figure(figsize=(10,10))\n",
    "df.F2.hist(bins=35)\n",
    "thing = len([a for a in df.F2 if a > 10000])\n",
    "plt.title(\"F^2 Over 1000:  %d \"  %thing )\n",
    "plt.show()\n"
   ]
  },
  {
   "cell_type": "code",
   "execution_count": 48,
   "metadata": {},
   "outputs": [
    {
     "data": {
      "text/plain": [
       "1428.8847525021945"
      ]
     },
     "execution_count": 48,
     "metadata": {},
     "output_type": "execute_result"
    }
   ],
   "source": []
  },
  {
   "cell_type": "code",
   "execution_count": 74,
   "metadata": {},
   "outputs": [],
   "source": [
    "#  For wolfram\n",
    "base = \"h = 1; k = 1; l = 1; C = 1; O = 1; N = 1; \"\n",
    "terms = []\n",
    "for ele in data.keys():\n",
    "    coords = data[ele]\n",
    "    buff = f\"{ele} * (\"\n",
    "    for c in coords: \n",
    "        term = f\"exp( 2 * pi * i * ({c[0]} * h + {c[1] } * k+ {c[2] }* l)) +\"\n",
    "        buff += term\n",
    "    buff = buff.strip(\"+\")\n",
    "    \n",
    "    buff += \")\"\n",
    "    terms.append(buff)\n",
    "    \n",
    "expand = \" + \".join(terms)\n",
    "base += expand\n",
    "    \n",
    "        \n",
    "\n"
   ]
  },
  {
   "cell_type": "code",
   "execution_count": 75,
   "metadata": {},
   "outputs": [
    {
     "data": {
      "text/plain": [
       "'h = 1; k = 1; l = 1; C = 1; O = 1; N = 1; C * (exp( 2 * pi * i * (-0.0529 * h + 0.0035 * k+ 0.0* l)) +exp( 2 * pi * i * (0.047 * h + 0.0032 * k+ 0.0697* l)) +exp( 2 * pi * i * (-0.0366 * h + -0.0025 * k+ 0.1456* l)) +exp( 2 * pi * i * (0.0592 * h + 0.004 * k+ 0.2149* l)) +exp( 2 * pi * i * (0.0692 * h + 0.0046 * k+ 0.3544* l)) +exp( 2 * pi * i * (-0.0307 * h + -0.002 * k+ 0.4242* l)) +exp( 2 * pi * i * (0.4471 * h + -0.0035 * k+ 0.49* l)) +exp( 2 * pi * i * (0.547 * h + 0.0032 * k+ 0.4202* l)) +exp( 2 * pi * i * (0.4634 * h + -0.0025 * k+ 0.3444* l)) +exp( 2 * pi * i * (0.5592 * h + 0.004 * k+ 0.2751* l)) +exp( 2 * pi * i * (0.5692 * h + 0.0046 * k+ 0.1355* l)) +exp( 2 * pi * i * (0.4693 * h + -0.002 * k+ 0.0658* l)) +exp( 2 * pi * i * (-0.0529 * h + 0.4965 * k+ 0.2144* l)) +exp( 2 * pi * i * (0.047 * h + 0.5031 * k+ 0.2841* l)) +exp( 2 * pi * i * (-0.0366 * h + 0.4976 * k+ 0.36* l)) +exp( 2 * pi * i * (0.0592 * h + 0.504 * k+ 0.4293* l)) +exp( 2 * pi * i * (0.0692 * h + 0.5046 * k+ 0.5688* l)) +exp( 2 * pi * i * (-0.0307 * h + 0.4979 * k+ 0.6385* l)) +exp( 2 * pi * i * (0.4471 * h + 0.4965 * k+ 0.7043* l)) +exp( 2 * pi * i * (0.547 * h + 0.5031 * k+ 0.6346* l)) +exp( 2 * pi * i * (0.4634 * h + 0.4976 * k+ 0.5587* l)) +exp( 2 * pi * i * (0.5592 * h + 0.504 * k+ 0.4894* l)) +exp( 2 * pi * i * (0.5692 * h + 0.5046 * k+ 0.3499* l)) +exp( 2 * pi * i * (0.4693 * h + 0.4979 * k+ 0.2802* l)) ) + N * (exp( 2 * pi * i * (-0.0082 * h + -0.0006 * k+ 0.2813* l)) +exp( 2 * pi * i * (0.4918 * h + -0.0006 * k+ 0.2087* l)) +exp( 2 * pi * i * (-0.0082 * h + 0.4994 * k+ 0.4956* l)) +exp( 2 * pi * i * (0.4918 * h + 0.4994 * k+ 0.4231* l)) ) + O * (exp( 2 * pi * i * (0.1893 * h + 0.0127 * k+ 0.2087* l)) +exp( 2 * pi * i * (0.689 * h + 0.0127 * k+ 0.2813* l)) +exp( 2 * pi * i * (0.1893 * h + 0.512 * k+ 0.423* l)) +exp( 2 * pi * i * (0.6893 * h + 0.512 * k+ 0.4956* l)) )'"
      ]
     },
     "execution_count": 75,
     "metadata": {},
     "output_type": "execute_result"
    }
   ],
   "source": [
    "base"
   ]
  },
  {
   "cell_type": "code",
   "execution_count": null,
   "metadata": {},
   "outputs": [],
   "source": []
  }
 ],
 "metadata": {
  "kernelspec": {
   "display_name": "Python 3",
   "language": "python",
   "name": "python3"
  },
  "language_info": {
   "codemirror_mode": {
    "name": "ipython",
    "version": 3
   },
   "file_extension": ".py",
   "mimetype": "text/x-python",
   "name": "python",
   "nbconvert_exporter": "python",
   "pygments_lexer": "ipython3",
   "version": "3.6.9"
  }
 },
 "nbformat": 4,
 "nbformat_minor": 4
}
