{
 "cells": [
  {
   "cell_type": "code",
   "execution_count": 14,
   "metadata": {},
   "outputs": [],
   "source": [
    "data = {'C': [(0.0529, 0.0035, 0.5),\n",
    "  (0.047, 0.0032, 0.0697),\n",
    "  (0.0366, 0.0025, 0.6456),\n",
    "  (0.0592, 0.004, 0.2149),\n",
    "  (0.0692, 0.0046, 0.3544),\n",
    "  (0.0307, 0.002, 0.9242),\n",
    "  (0.5529, 0.0035, 0.99),\n",
    "  (0.547, 0.0032, 0.4202),\n",
    "  (0.5366, 0.0025, 0.8444),\n",
    "  (0.5592, 0.004, 0.2751),\n",
    "  (0.5692, 0.0046, 0.1355),\n",
    "  (0.5307, 0.002, 0.5658),\n",
    "  (0.0529, 0.5035, 0.7144),\n",
    "  (0.047, 0.5031, 0.2841),\n",
    "  (0.0366, 0.5024, 0.86),\n",
    "  (0.0592, 0.504, 0.4293),\n",
    "  (0.0692, 0.5046, 0.5688),\n",
    "  (0.0307, 0.5021, 0.1385),\n",
    "  (0.4471, 0.4965, 0.7043),\n",
    "  (0.5529, 0.5035, 0.2043),\n",
    "  (0.547, 0.5031, 0.6346),\n",
    "  (0.453, 0.4969, 0.1346),\n",
    "  (0.4634, 0.4976, 0.5587),\n",
    "  (0.5366, 0.5024, 0.0587),\n",
    "  (0.5592, 0.504, 0.4894),\n",
    "  (0.4408, 0.496, 0.9894),\n",
    "  (0.5692, 0.5046, 0.3499),\n",
    "  (0.4308, 0.4954, 0.8499),\n",
    "  (0.4693, 0.4979, 0.2802),\n",
    "  (0.5307, 0.5021, 0.7802),\n",
    "  (0.9693, 0.998, 0.4242),\n",
    "  (0.953, 0.9968, 0.5697),\n",
    "  (0.9471, 0.9965, 0.0),\n",
    "  (0.9634, 0.9975, 0.1456),\n",
    "  (0.9408, 0.996, 0.7149),\n",
    "  (0.9308, 0.9954, 0.8544),\n",
    "  (0.453, 0.9968, 0.9202),\n",
    "  (0.4471, 0.9965, 0.49),\n",
    "  (0.4634, 0.9975, 0.3444),\n",
    "  (0.4408, 0.996, 0.7751),\n",
    "  (0.4693, 0.998, 0.0658),\n",
    "  (0.4308, 0.9954, 0.6355),\n",
    "  (0.9693, 0.4979, 0.6385),\n",
    "  (0.953, 0.4969, 0.7841),\n",
    "  (0.9471, 0.4965, 0.2144),\n",
    "  (0.9634, 0.4976, 0.36),\n",
    "  (0.9408, 0.496, 0.9293),\n",
    "  (0.9308, 0.4954, 0.0688)],\n",
    " 'O': [(0.1893, 0.0127, 0.2087),\n",
    "  (0.8107, 0.9873, 0.7087),\n",
    "  (0.6893, 0.0127, 0.2813),\n",
    "  (0.1893, 0.5127, 0.4231),\n",
    "  (0.8107, 0.4873, 0.9231),\n",
    "  (0.6893, 0.5127, 0.4956),\n",
    "  (0.3107, 0.4873, 0.9956),\n",
    "  (0.3107, 0.9873, 0.7813)],\n",
    " 'N': [(0.0082, 0.0006, 0.7813),\n",
    "  (0.5082, 0.0006, 0.7087),\n",
    "  (0.0082, 0.5006, 0.9956),\n",
    "  (0.4918, 0.4994, 0.4231),\n",
    "  (0.5082, 0.5006, 0.9231),\n",
    "  (0.9918, 0.9994, 0.2813),\n",
    "  (0.4918, 0.9994, 0.2087),\n",
    "  (0.9918, 0.4994, 0.4956)]}"
   ]
  },
  {
   "cell_type": "code",
   "execution_count": 15,
   "metadata": {},
   "outputs": [],
   "source": [
    "import pandas as pd\n",
    "import numpy as np"
   ]
  },
  {
   "cell_type": "code",
   "execution_count": 16,
   "metadata": {},
   "outputs": [],
   "source": [
    "df = pd.read_csv(\"nylonref.txt\", sep =\"\\t\", names = [\"h\", \"k\", \"l\"]) \n",
    "refs = []\n",
    "for h, k, l in zip(df.h, df.k, df.l):\n",
    "    refs.append((h,k,l))\n"
   ]
  },
  {
   "cell_type": "code",
   "execution_count": 23,
   "metadata": {},
   "outputs": [],
   "source": [
    "content = \"\"\"\n",
    "0\t0\t1\t0.3303\t1.7400\t0.044310345\t0.044324858\t2.5396\t5.0793\t0.0287\t5.9147\t7.9322\t6.9245\n",
    "1\t0\t0\t1.2912\t0.8800\t0.087611161\t0.08772363\t5.0262\t10.0524\t0.0568\t5.6793\t7.7407\t6.7132\n",
    "0\t0\t2\t1.3212\t0.8700\t0.08862069\t0.088737101\t5.0843\t10.1685\t0.0575\t5.6723\t7.7348\t6.7068\n",
    "1\t0\t1\t1.6215\t0.7853\t0.098179032\t0.098337446\t5.6343\t11.2686\t0.0637\t5.6026\t7.6768\t6.6434\n",
    "-1\t1\t0\t1.8123\t0.7428\t0.103793273\t0.103980544\t5.9576\t11.9153\t0.0673\t5.5592\t7.6404\t6.6036\n",
    "0\t1\t0\t1.8150\t0.7423\t0.103871108\t0.104058802\t5.9621\t11.9243\t0.0674\t5.5586\t7.6399\t6.6031\n",
    "-1\t1\t1\t2.1426\t0.6832\t0.112855882\t0.113096829\t6.4800\t12.9599\t0.0732\t5.4856\t7.5781\t6.5359\n",
    "0\t1\t1\t2.1453\t0.6827\t0.112927471\t0.113168879\t6.4841\t12.9682\t0.0732\t5.4850\t7.5776\t6.5354\n",
    "-1\t0\t2\t2.6124\t0.6187\t0.124616781\t0.124941593\t7.1586\t14.3173\t0.0808\t5.3842\t7.4910\t6.4419\n",
    "0\t0\t3\t2.9727\t0.5800\t0.132931034\t0.133325677\t7.6390\t15.2780\t0.0862\t5.3090\t7.4255\t6.3715\n",
    "-1\t1\t2\t3.1335\t0.5649\t0.136479559\t0.136906844\t7.8442\t15.6884\t0.0885\t5.2761\t7.3967\t6.3405\n",
    "0\t1\t2\t3.1362\t0.5647\t0.136538763\t0.136966607\t7.8476\t15.6952\t0.0885\t5.2756\t7.3962\t6.3400\n",
    "1\t0\t3\t4.2639\t0.4843\t0.159205451\t0.159885786\t9.1608\t18.3216\t0.1032\t5.0561\t7.1994\t6.1309\n",
    "-2\t1\t0\t4.3921\t0.4772\t0.161580664\t0.162292155\t9.2987\t18.5973\t0.1048\t5.0323\t7.1777\t6.1080\n",
    "1\t1\t0\t4.4002\t0.4767\t0.161730646\t0.162444136\t9.3074\t18.6147\t0.1049\t5.0308\t7.1763\t6.1065\n",
    "-2\t1\t1\t4.7224\t0.4602\t0.167546166\t0.168340121\t9.6452\t19.2904\t0.1087\t4.9722\t7.1222\t6.0497\n",
    "1\t1\t1\t4.7305\t0.4598\t0.167690812\t0.168486844\t9.6536\t19.3072\t0.1087\t4.9707\t7.1209\t6.0482\n",
    "-1\t1\t3\t4.7849\t0.4572\t0.168652612\t0.169462539\t9.7095\t19.4190\t0.1094\t4.9609\t7.1118\t6.0387\n",
    "0\t1\t3\t4.7877\t0.4570\t0.168700525\t0.169511149\t9.7123\t19.4245\t0.1094\t4.9604\t7.1114\t6.0383\n",
    "2\t0\t0\t5.1650\t0.4400\t0.175222322\t0.17613158\t10.0916\t20.1832\t0.1136\t4.8938\t7.0492\t5.9732\n",
    "0\t0\t4\t5.2847\t0.4350\t0.177241379\t0.17818274\t10.2091\t20.4182\t0.1149\t4.8731\t7.0297\t5.9528\n",
    "2\t0\t1\t5.4953\t0.4266\t0.180738123\t0.181736882\t10.4128\t20.8255\t0.1172\t4.8370\t6.9956\t5.9174\n",
    "2\t-1\t-2\t5.7133\t0.4184\t0.184287649\t0.185347049\t10.6196\t21.2392\t0.1195\t4.8003\t6.9607\t5.8811\n",
    "1\t1\t2\t5.7214\t0.4181\t0.184419165\t0.185480858\t10.6273\t21.2545\t0.1196\t4.7989\t6.9594\t5.8797\n",
    "-1\t2\t0\t5.9634\t0.4095\t0.188278479\t0.189408981\t10.8523\t21.7047\t0.1221\t4.7589\t6.9210\t5.8400\n",
    "-1\t2\t1\t6.2937\t0.3986\t0.193422316\t0.194649143\t11.1526\t22.3051\t0.1254\t4.7053\t6.8692\t5.7866\n",
    "-2\t0\t2\t6.4862\t0.3927\t0.196358063\t0.197642285\t11.3241\t22.6481\t0.1273\t4.6747\t6.8394\t5.7559\n",
    "-2\t2\t0\t7.2492\t0.3714\t0.207586545\t0.209107113\t11.9810\t23.9619\t0.1346\t4.5574\t6.7236\t5.6373\n",
    "0\t2\t0\t7.2601\t0.3711\t0.207742216\t0.209266253\t11.9901\t23.9801\t0.1347\t4.5557\t6.7220\t5.6357\n",
    "-1\t2\t2\t7.2846\t0.3705\t0.208092316\t0.209624175\t12.0106\t24.0212\t0.1349\t4.5521\t6.7183\t5.6320\n",
    "-2\t1\t3\t7.3647\t0.3685\t0.209234249\t0.21079181\t12.0775\t24.1550\t0.1357\t4.5401\t6.7064\t5.6198\n",
    "1\t1\t3\t7.3729\t0.3683\t0.209350094\t0.210910279\t12.0843\t24.1685\t0.1358\t4.5389\t6.7052\t5.6186\n",
    "-2\t2\t1\t7.5795\t0.3632\t0.212262998\t0.213890148\t12.2550\t24.5100\t0.1377\t4.5085\t6.6746\t5.5875\n",
    "0\t2\t1\t7.5904\t0.3630\t0.212415242\t0.214045945\t12.2639\t24.5279\t0.1378\t4.5069\t6.6730\t5.5859\n",
    "2\t0\t3\t8.1376\t0.3506\t0.219939815\t0.221752774\t12.7055\t25.4110\t0.1426\t4.4285\t6.5934\t5.5053\n",
    "-2\t2\t2\t8.5704\t0.3416\t0.225711764\t0.227673593\t13.0447\t26.0895\t0.1464\t4.3686\t6.5317\t5.4432\n",
    "0\t2\t2\t8.5812\t0.3414\t0.225854942\t0.227820566\t13.0532\t26.1063\t0.1465\t4.3671\t6.5302\t5.4417\n",
    "-1\t2\t3\t8.9360\t0.3345\t0.230476562\t0.232567401\t13.3251\t26.6503\t0.1495\t4.3193\t6.4805\t5.3918\n",
    "-3\t1\t0\t9.5544\t0.3235\t0.238317036\t0.240632588\t13.7872\t27.5745\t0.1546\t4.2387\t6.3955\t5.3072\n",
    "2\t1\t0\t9.5680\t0.3233\t0.238486536\t0.240807121\t13.7972\t27.5945\t0.1547\t4.2370\t6.3937\t5.3053\n",
    "-3\t1\t1\t9.8847\t0.3181\t0.242401354\t0.244840262\t14.0283\t28.0566\t0.1572\t4.1970\t6.3511\t5.2630\n",
    "2\t1\t1\t9.8982\t0.3178\t0.242568\t0.245012034\t14.0382\t28.0763\t0.1573\t4.1953\t6.3492\t5.2612\n",
    "0\t2\t3\t10.2327\t0.3126\t0.246632294\t0.249203657\t14.2783\t28.5566\t0.1599\t4.1540\t6.3048\t5.2173\n",
    "-3\t1\t2\t10.8755\t0.3032\t0.254260961\t0.257083474\t14.7298\t29.4596\t0.1649\t4.0772\t6.2211\t5.1350\n",
    "2\t1\t2\t10.8891\t0.3030\t0.254419839\t0.257247754\t14.7392\t29.4784\t0.1650\t4.0756\t6.2194\t5.1333\n",
    "-3\t2\t0\t11.1175\t0.2999\t0.257073906\t0.259993123\t14.8965\t29.7930\t0.1667\t4.0491\t6.1902\t5.1047\n",
    "1\t2\t0\t11.1393\t0.2996\t0.257325285\t0.260253253\t14.9114\t29.8228\t0.1669\t4.0466\t6.1874\t5.1020\n",
    "-3\t2\t1\t11.4478\t0.2956\t0.260864716\t0.263917825\t15.1214\t30.2428\t0.1692\t4.0115\t6.1484\t5.0639\n",
    "1\t2\t1\t11.4696\t0.2953\t0.261112445\t0.264174448\t15.1361\t30.2722\t0.1693\t4.0090\t6.1457\t5.0612\n",
    "3\t0\t0\t11.6212\t0.2933\t0.262833484\t0.265957769\t15.2383\t30.4765\t0.1704\t3.9920\t6.1267\t5.0427\n",
    "3\t0\t1\t11.9515\t0.2893\t0.266542392\t0.269803854\t15.4586\t30.9172\t0.1729\t3.9556\t6.0858\t5.0029\n",
    "1\t2\t2\t12.4604\t0.2833\t0.272157912\t0.275634886\t15.7927\t31.5854\t0.1765\t3.9009\t6.0238\t4.9429\n",
    "2\t1\t3\t12.5406\t0.2824\t0.273032027\t0.276543407\t15.8448\t31.6895\t0.1771\t3.8924\t6.0141\t4.9336\n",
    "3\t0\t2\t12.9424\t0.2780\t0.277371712\t0.281057398\t16.1034\t32.2068\t0.1799\t3.8506\t5.9662\t4.8874\n",
    "-2\t3\t0\t13.7363\t0.2698\t0.285752429\t0.289791504\t16.6038\t33.2077\t0.1853\t3.7710\t5.8736\t4.7987\n",
    "-1\t3\t0\t13.7445\t0.2697\t0.285837265\t0.289880032\t16.6089\t33.2178\t0.1854\t3.7702\t5.8726\t4.7978\n",
    "-2\t3\t1\t14.0666\t0.2666\t0.289167525\t0.293357097\t16.8081\t33.6162\t0.1875\t3.7390\t5.8359\t4.7628\n",
    "-1\t3\t1\t14.0748\t0.2666\t0.289251359\t0.293444673\t16.8131\t33.6263\t0.1876\t3.7383\t5.8350\t4.7619\n",
    "1\t2\t3\t14.1119\t0.2662\t0.289632461\t0.293842817\t16.8360\t33.6719\t0.1878\t3.7347\t5.8308\t4.7579\n",
    "-1\t3\t2\t15.0657\t0.2576\t0.299260035\t0.303917054\t17.4132\t34.8263\t0.1941\t3.6460\t5.7247\t4.6575\n",
    "0\t3\t0\t16.3352\t0.2474\t0.311613324\t0.316890423\t18.1565\t36.3130\t0.2021\t3.5353\t5.5894\t4.5305\n",
    "0\t3\t1\t16.6655\t0.2450\t0.314747948\t0.320191094\t18.3456\t36.6912\t0.2041\t3.5078\t5.5552\t4.4987\n",
    "3\t1\t0\t17.3182\t0.2403\t0.320852435\t0.32662937\t18.7145\t37.4290\t0.2081\t3.4549\t5.4888\t4.4371\n",
    "2\t2\t0\t17.6009\t0.2384\t0.323461292\t0.329385149\t18.8724\t37.7448\t0.2098\t3.4326\t5.4606\t4.4110\n",
    "3\t1\t1\t17.6485\t0.2380\t0.323897656\t0.32984634\t18.8988\t37.7976\t0.2101\t3.4289\t5.4559\t4.4066\n",
    "0\t3\t2\t17.6563\t0.2380\t0.323969891\t0.329922693\t18.9032\t37.8064\t0.2101\t3.4283\t5.4551\t4.4059\n",
    "2\t2\t1\t17.9312\t0.2362\t0.326482181\t0.332579412\t19.0554\t38.1108\t0.2117\t3.4070\t5.4279\t4.3809\n",
    "3\t1\t2\t18.6393\t0.2316\t0.332866207\t0.33934149\t19.4428\t38.8857\t0.2159\t3.3536\t5.3593\t4.3178\n",
    "2\t2\t2\t18.9221\t0.2299\t0.335381625\t0.342010287\t19.5957\t39.1915\t0.2175\t3.3328\t5.3323\t4.2932\n",
    "4\t0\t0\t20.6600\t0.2200\t0.350444645\t0.358045814\t20.5145\t41.0290\t0.2273\t3.2118\t5.1724\t4.1480\n",
    "1\t3\t0\t21.5083\t0.2156\t0.357567081\t0.365661437\t20.9509\t41.9017\t0.2319\t3.1566\t5.0978\t4.0809\n",
    "1\t3\t1\t21.8386\t0.2140\t0.360302129\t0.368591755\t21.1188\t42.2375\t0.2337\t3.1357\t5.0694\t4.0555\n",
    "1\t3\t2\t22.8295\t0.2093\t0.368385455\t0.377271742\t21.6161\t43.2322\t0.2389\t3.0752\t4.9859\t3.9810\n",
    "3\t2\t0\t26.6451\t0.1937\t0.397981839\t0.409315907\t23.4521\t46.9041\t0.2581\t2.8676\t4.6887\t3.7203\n",
    "3\t2\t1\t26.9754\t0.1925\t0.400440945\t0.411998007\t23.6057\t47.2115\t0.2597\t2.8514\t4.6646\t3.6995\n",
    "0\t4\t0\t29.0403\t0.1856\t0.415484432\t0.428475316\t24.5498\t49.0997\t0.2694\t2.7552\t4.5199\t3.5752\n",
    "2\t3\t0\t29.2640\t0.1849\t0.417081529\t0.430231843\t24.6505\t49.3009\t0.2705\t2.7453\t4.5047\t3.5623\n",
    "2\t3\t1\t29.5943\t0.1838\t0.419428669\t0.432815862\t24.7985\t49.5970\t0.2720\t2.7309\t4.4826\t3.5434\"\"\""
   ]
  },
  {
   "cell_type": "code",
   "execution_count": 24,
   "metadata": {},
   "outputs": [],
   "source": [
    "from io import StringIO\n",
    "name = ['h', 'k', 'l', '1/d2', 'd', 'sin q', 'q rad', 'q deg', ' 2q', 'sinq/l', 'C', 'O', 'N']\n",
    "df = pd.read_csv(StringIO(content), sep=\"\\t\", names = name)"
   ]
  },
  {
   "cell_type": "code",
   "execution_count": 25,
   "metadata": {},
   "outputs": [],
   "source": [
    "def structureFactor(x, data): \n",
    "    \"\"\"\n",
    "    :param x: (h, k, l, f_C, f_O, f_N) where f_{} is the scattering factor\n",
    "    :param data: coordinates of the data in dictionary keyed on element name, value list of tuples \n",
    "    \n",
    "    \n",
    "    data = {'C': [(-0.0529, 0.0035, 0.0),\n",
    "              (0.047, 0.0032, 0.0697),\n",
    "              (-0.0366, -0.0025, 0.1456),\n",
    "              (0.0592, 0.004, 0.2149),\n",
    "              (0.0692, 0.0046, 0.3544),\n",
    "              (-0.0307, -0.002, 0.4242), (0.4471, -0.0035, 0.49),\n",
    "              (0.547, 0.0032, 0.4202),\n",
    "              (0.4634, -0.0025, 0.3444),\n",
    "              (0.5592, 0.004, 0.2751),\n",
    "              (0.5692, 0.0046, 0.1355),\n",
    "              (0.4693, -0.002, 0.0658),\n",
    "              (-0.0529, 0.4965, 0.2144),\n",
    "              (0.047, 0.5031, 0.2841),\n",
    "              (-0.0366, 0.4976, 0.36),\n",
    "              (0.0592, 0.504, 0.4293),\n",
    "              (0.0692, 0.5046, 0.5688),\n",
    "              (-0.0307, 0.4979, 0.6385),\n",
    "              (0.4471, 0.4965, 0.7043),\n",
    "              (0.547, 0.5031, 0.6346),\n",
    "              (0.4634, 0.4976, 0.5587),\n",
    "              (0.5592, 0.504, 0.4894),\n",
    "              (0.5692, 0.5046, 0.3499),\n",
    "              (0.4693, 0.4979, 0.2802)\n",
    "              ],\n",
    "             'N': [(-0.0082, -0.0006, 0.2813), (0.4918, -0.0006, 0.2087), (-0.0082, 0.4994, 0.4956), (0.4918, 0.4994, 0.4231)],\n",
    "             'O': [(0.1893, 0.0127, 0.2087), (0.689, 0.0127, 0.2813), (0.1893, 0.512, 0.423), (0.6893, 0.512, 0.4956)]\n",
    "             }\n",
    "    \"\"\"\n",
    "    def expTerm(coords, h, k, l): \n",
    "        \"\"\"\n",
    "        (exp(first coords) + exp (second coord) .... exp(last term ))\n",
    "        \n",
    "        :param coords: [(x, y, z), (x, y, z) .... (x, y, z)] for given element  \n",
    "        :param h, k, l: (int)\n",
    "        \"\"\"\n",
    "        tot = 0\n",
    "        # Iterates over elements coords and computes the exponent term, adds to total\n",
    "        for coord in coords: \n",
    "            a,b,c = coord\n",
    "            tot += np.exp(2 * np.pi * 1j * (a *h + b * k + c * l))\n",
    "            \n",
    "        # Checking if one term is just super small\n",
    "        tot = complex(tot)\n",
    "        if abs(tot.imag) <= 1e-10: \n",
    "            tot = tot.real\n",
    "        if abs(tot.real) <= 1e-10: \n",
    "            tot = tot.imag\n",
    "        return tot\n",
    "    h, k, l, f_c, f_o, f_n = x \n",
    "\n",
    "    # Multiplies Scattering Factor by the exponent term \n",
    "    # f_{element} = (exp(first coords) + exp (second coord) .... exp(last term ))\n",
    "    cBuff = f_c * expTerm(data[\"C\"], h, k, l) \n",
    "    oBuff = f_o * expTerm(data[\"O\"], h, k, l)\n",
    "    nBuff = f_n * expTerm(data[\"N\"], h, k, l)\n",
    "    return cBuff + oBuff + nBuff\n",
    "df[\"F\"] = df[[\"h\", \"k\", \"l\", \"C\", \"O\", \"N\"]].apply(lambda x: structureFactor(x, data), axis=1)\n",
    "    "
   ]
  },
  {
   "cell_type": "code",
   "execution_count": 26,
   "metadata": {},
   "outputs": [],
   "source": [
    "df[\"F2\"] = df[[\"F\"]].apply(lambda x: (x[0] * x[0].conjugate()).real, axis=1)"
   ]
  },
  {
   "cell_type": "code",
   "execution_count": 27,
   "metadata": {},
   "outputs": [],
   "source": [
    "df[[\"h\", \"k\", \"l\", \"F\", \"F2\"]].to_csv(\"temp.csv\", index=False)"
   ]
  },
  {
   "cell_type": "code",
   "execution_count": null,
   "metadata": {},
   "outputs": [],
   "source": []
  },
  {
   "cell_type": "code",
   "execution_count": 22,
   "metadata": {},
   "outputs": [
    {
     "name": "stderr",
     "output_type": "stream",
     "text": [
      "In /home/rose/.local/lib/python3.6/site-packages/matplotlib/mpl-data/stylelib/_classic_test.mplstyle: \n",
      "The text.latex.preview rcparam was deprecated in Matplotlib 3.3 and will be removed two minor releases later.\n",
      "In /home/rose/.local/lib/python3.6/site-packages/matplotlib/mpl-data/stylelib/_classic_test.mplstyle: \n",
      "The mathtext.fallback_to_cm rcparam was deprecated in Matplotlib 3.3 and will be removed two minor releases later.\n",
      "In /home/rose/.local/lib/python3.6/site-packages/matplotlib/mpl-data/stylelib/_classic_test.mplstyle: Support for setting the 'mathtext.fallback_to_cm' rcParam is deprecated since 3.3 and will be removed two minor releases later; use 'mathtext.fallback : 'cm' instead.\n",
      "In /home/rose/.local/lib/python3.6/site-packages/matplotlib/mpl-data/stylelib/_classic_test.mplstyle: \n",
      "The validate_bool_maybe_none function was deprecated in Matplotlib 3.3 and will be removed two minor releases later.\n",
      "In /home/rose/.local/lib/python3.6/site-packages/matplotlib/mpl-data/stylelib/_classic_test.mplstyle: \n",
      "The savefig.jpeg_quality rcparam was deprecated in Matplotlib 3.3 and will be removed two minor releases later.\n",
      "In /home/rose/.local/lib/python3.6/site-packages/matplotlib/mpl-data/stylelib/_classic_test.mplstyle: \n",
      "The keymap.all_axes rcparam was deprecated in Matplotlib 3.3 and will be removed two minor releases later.\n",
      "In /home/rose/.local/lib/python3.6/site-packages/matplotlib/mpl-data/stylelib/_classic_test.mplstyle: \n",
      "The animation.avconv_path rcparam was deprecated in Matplotlib 3.3 and will be removed two minor releases later.\n",
      "In /home/rose/.local/lib/python3.6/site-packages/matplotlib/mpl-data/stylelib/_classic_test.mplstyle: \n",
      "The animation.avconv_args rcparam was deprecated in Matplotlib 3.3 and will be removed two minor releases later.\n"
     ]
    },
    {
     "data": {
      "image/png": "[encoded data removed]",
      "text/plain": [
       "<Figure size 720x720 with 1 Axes>"
      ]
     },
     "metadata": {
      "needs_background": "light"
     },
     "output_type": "display_data"
    }
   ],
   "source": [
    "\n",
    "import matplotlib.pyplot as plt\n",
    "plt.figure(figsize=(10,10))\n",
    "df.F2.hist(bins=35)\n",
    "thing = len([a for a in df.F2 if a > 10000])\n",
    "plt.title(\"F^2 Over 1000:  %d \"  %thing )\n",
    "plt.show()\n"
   ]
  },
  {
   "cell_type": "code",
   "execution_count": 48,
   "metadata": {},
   "outputs": [
    {
     "data": {
      "text/plain": [
       "1428.8847525021945"
      ]
     },
     "execution_count": 48,
     "metadata": {},
     "output_type": "execute_result"
    }
   ],
   "source": []
  },
  {
   "cell_type": "code",
   "execution_count": 74,
   "metadata": {},
   "outputs": [],
   "source": [
    "#  For wolfram\n",
    "base = \"h = 1; k = 1; l = 1; C = 1; O = 1; N = 1; \"\n",
    "terms = []\n",
    "for ele in data.keys():\n",
    "    coords = data[ele]\n",
    "    buff = f\"{ele} * (\"\n",
    "    for c in coords: \n",
    "        term = f\"exp( 2 * pi * i * ({c[0]} * h + {c[1] } * k+ {c[2] }* l)) +\"\n",
    "        buff += term\n",
    "    buff = buff.strip(\"+\")\n",
    "    \n",
    "    buff += \")\"\n",
    "    terms.append(buff)\n",
    "    \n",
    "expand = \" + \".join(terms)\n",
    "base += expand\n",
    "    \n",
    "        \n",
    "\n"
   ]
  },
  {
   "cell_type": "code",
   "execution_count": 75,
   "metadata": {},
   "outputs": [
    {
     "data": {
      "text/plain": [
       "'h = 1; k = 1; l = 1; C = 1; O = 1; N = 1; C * (exp( 2 * pi * i * (-0.0529 * h + 0.0035 * k+ 0.0* l)) +exp( 2 * pi * i * (0.047 * h + 0.0032 * k+ 0.0697* l)) +exp( 2 * pi * i * (-0.0366 * h + -0.0025 * k+ 0.1456* l)) +exp( 2 * pi * i * (0.0592 * h + 0.004 * k+ 0.2149* l)) +exp( 2 * pi * i * (0.0692 * h + 0.0046 * k+ 0.3544* l)) +exp( 2 * pi * i * (-0.0307 * h + -0.002 * k+ 0.4242* l)) +exp( 2 * pi * i * (0.4471 * h + -0.0035 * k+ 0.49* l)) +exp( 2 * pi * i * (0.547 * h + 0.0032 * k+ 0.4202* l)) +exp( 2 * pi * i * (0.4634 * h + -0.0025 * k+ 0.3444* l)) +exp( 2 * pi * i * (0.5592 * h + 0.004 * k+ 0.2751* l)) +exp( 2 * pi * i * (0.5692 * h + 0.0046 * k+ 0.1355* l)) +exp( 2 * pi * i * (0.4693 * h + -0.002 * k+ 0.0658* l)) +exp( 2 * pi * i * (-0.0529 * h + 0.4965 * k+ 0.2144* l)) +exp( 2 * pi * i * (0.047 * h + 0.5031 * k+ 0.2841* l)) +exp( 2 * pi * i * (-0.0366 * h + 0.4976 * k+ 0.36* l)) +exp( 2 * pi * i * (0.0592 * h + 0.504 * k+ 0.4293* l)) +exp( 2 * pi * i * (0.0692 * h + 0.5046 * k+ 0.5688* l)) +exp( 2 * pi * i * (-0.0307 * h + 0.4979 * k+ 0.6385* l)) +exp( 2 * pi * i * (0.4471 * h + 0.4965 * k+ 0.7043* l)) +exp( 2 * pi * i * (0.547 * h + 0.5031 * k+ 0.6346* l)) +exp( 2 * pi * i * (0.4634 * h + 0.4976 * k+ 0.5587* l)) +exp( 2 * pi * i * (0.5592 * h + 0.504 * k+ 0.4894* l)) +exp( 2 * pi * i * (0.5692 * h + 0.5046 * k+ 0.3499* l)) +exp( 2 * pi * i * (0.4693 * h + 0.4979 * k+ 0.2802* l)) ) + N * (exp( 2 * pi * i * (-0.0082 * h + -0.0006 * k+ 0.2813* l)) +exp( 2 * pi * i * (0.4918 * h + -0.0006 * k+ 0.2087* l)) +exp( 2 * pi * i * (-0.0082 * h + 0.4994 * k+ 0.4956* l)) +exp( 2 * pi * i * (0.4918 * h + 0.4994 * k+ 0.4231* l)) ) + O * (exp( 2 * pi * i * (0.1893 * h + 0.0127 * k+ 0.2087* l)) +exp( 2 * pi * i * (0.689 * h + 0.0127 * k+ 0.2813* l)) +exp( 2 * pi * i * (0.1893 * h + 0.512 * k+ 0.423* l)) +exp( 2 * pi * i * (0.6893 * h + 0.512 * k+ 0.4956* l)) )'"
      ]
     },
     "execution_count": 75,
     "metadata": {},
     "output_type": "execute_result"
    }
   ],
   "source": [
    "base"
   ]
  },
  {
   "cell_type": "code",
   "execution_count": 34,
   "metadata": {},
   "outputs": [
    {
     "name": "stdout",
     "output_type": "stream",
     "text": [
      "  \\\\frac{\\\\frac{${p1[0]} ${p2[0]}}{a^2} + \\\\frac{${p1[1]} ${p2[1]} sin^2(${beta})}{b^2} + \\\\frac{${p1[2]} ${p2[2]}}{c^2} - \\\\frac{(${p1[0]} ${p2[2]} + ${p2[0]} ${p1[2]}) cos(${beta})}{a c}}{\\\\sqrt{ \\\\frac{${p1[0]}^2}{a^2} + \\\\frac{${p1[1]}^2 sin^2(${beta})}{b^2} + \\\\frac{${p1[2]} ^2}{c^2} - \\\\frac{2 ${p1[0]} ${p1[2]}  cos(${beta})}{a c} } \\\\sqrt{\\\\frac{${p2[0]}^2}{a^2} + \\\\frac{${p2[1]}^2 sin^2(${beta})}{b^2} + \\\\frac{${p2[2]} ^2}{c^2} - \\\\frac{2 ${p2[0]} ${p2[2]}  cos(${beta})}{a c}}}\\\\\\\\\n"
     ]
    }
   ],
   "source": [
    "def structureFactor(hkl, scFact,  data) -> float: \n",
    "    \"\"\"\n",
    "    :param hkl: (h, k, l): tuple\n",
    "    :param scFact: {\"Element\": scattering Factor of element (float)}: dict\n",
    "    :param data: coordinates of the data in dictionary keyed on element name, value list of tuples \n",
    "    \"\"\"\n",
    "    def expTerm(coords, h, k, l): \n",
    "        \"\"\"\n",
    "        (exp(first coords) + exp (second coord) .... exp(last term ))\n",
    "        \n",
    "        :param coords: [(x, y, z), (x, y, z) .... (x, y, z)] for given element  \n",
    "        :param h, k, l: (int)\n",
    "        \"\"\"\n",
    "        tot = 0\n",
    "        # Iterates over elements coords and computes the exponent term, adds to total\n",
    "        for coord in coords: \n",
    "            a,b,c = coord\n",
    "            tot += np.exp(2 * np.pi * 1j * (a *h + b * k + c * l))\n",
    "        # Checking if one term is just super small\n",
    "        tot = complex(tot)\n",
    "        if abs(tot.imag) <= 1e-10: \n",
    "            tot = tot.real\n",
    "        if abs(tot.real) <= 1e-10: \n",
    "            tot = tot.imag\n",
    "        return tot\n",
    "    h, k, l = hkl\n",
    "    # Multiplies Scattering Factor by the exponent term \n",
    "    # f_{element} = (exp(first coords) + exp (second coord) .... exp(last term ))\n",
    "    for k in data.keys(): \n",
    "        buff += scFact[k] * expTerm(data[k], h, k, l)\n",
    "    return buff\n",
    "df[\"F\"] = df[[\"h\", \"k\", \"l\", \"C\", \"O\", \"N\"]].apply(lambda x: structureFactor(x, data), axis=1)\n",
    "    "
   ]
  },
  {
   "cell_type": "code",
   "execution_count": null,
   "metadata": {},
   "outputs": [],
   "source": []
  },
  {
   "cell_type": "code",
   "execution_count": null,
   "metadata": {},
   "outputs": [],
   "source": []
  },
  {
   "cell_type": "code",
   "execution_count": null,
   "metadata": {},
   "outputs": [],
   "source": []
  }
 ],
 "metadata": {
  "kernelspec": {
   "display_name": "Python 3",
   "language": "python",
   "name": "python3"
  },
  "language_info": {
   "codemirror_mode": {
    "name": "ipython",
    "version": 3
   },
   "file_extension": ".py",
   "mimetype": "text/x-python",
   "name": "python",
   "nbconvert_exporter": "python",
   "pygments_lexer": "ipython3",
   "version": "3.6.9"
  }
 },
 "nbformat": 4,
 "nbformat_minor": 4
}
