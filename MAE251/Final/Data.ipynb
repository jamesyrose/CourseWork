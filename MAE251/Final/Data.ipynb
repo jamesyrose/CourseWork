{
 "cells": [
  {
   "cell_type": "code",
   "execution_count": 4,
   "metadata": {},
   "outputs": [],
   "source": [
    "import pandas as pd\n",
    "import numpy as np"
   ]
  },
  {
   "cell_type": "code",
   "execution_count": 10,
   "metadata": {},
   "outputs": [],
   "source": [
    "\"\"\"\n",
    "src: http://groups.mrl.uiuc.edu/chiang/czoschke/diffraction-selection-rules.html\n",
    "\n",
    "\n",
    "Allowed planes\n",
    "primitive - any\n",
    "Body Centered - h+k+l = 2n even\n",
    "face centered - h,k,l all odd or all even\n",
    "fcc diamond - h,k,l all odd || h+k+l = 4n\n",
    "HCP - L even, H+2K != 3n\n",
    "\"\"\"\n",
    "def getAllPlanes(n):\n",
    "    df = pd.DataFrame(columns=[\"h\", \"k\", \"l\"])\n",
    "    for h in range(-n, n+1): \n",
    "        for k in range(-n, n+1): \n",
    "            for l in range(-n, n+1): \n",
    "                i = len(df)\n",
    "                df.loc[i, \"h\"] = h\n",
    "                df.loc[i, \"k\"] = k\n",
    "                df.loc[i, \"l\"] = l\n",
    "    return df\n",
    "\n",
    "def isBodyCentered(x): \n",
    "    buff = sum(x)\n",
    "    if buff % 2 == 0: \n",
    "        return True\n",
    "    else:\n",
    "        return False\n",
    "\n",
    "def isFaceCentered(x):\n",
    "    h, k, l = x\n",
    "    if (h%2 == 1) and (k%2 == 1) and (l%2 == 1): \n",
    "        return True\n",
    "    else:\n",
    "        return False\n",
    "    \n",
    "def isFCCDiamond(x): \n",
    "    if isFaceCentered(x):\n",
    "        return True\n",
    "    if sum(x) % 8 == 1: \n",
    "        return True\n",
    "    return False\n",
    "\n",
    "def isHCP(x):\n",
    "    h, k, l  = x\n",
    "    if l%2 == 0: \n",
    "        return True\n",
    "    buff = h  + 2 * k \n",
    "    if buff % 3 == 1: \n",
    "        return True\n",
    "    return False\n",
    "\n",
    "class dspace:\n",
    "    def hcp(x, a, c): \n",
    "        h, k, l = x\n",
    "        return 4/3 * (h ** 2 + h * k + k ** 2 ) / a ** 2 + l ** 2 / c ** 2\n",
    "    def fcc(x, a): \n",
    "        h, k, l = x\n",
    "        return (h **2 + k **2 + l ** 2 ) / a **2\n",
    "    def tetragonal(x, a, c): \n",
    "        h, k, l = x\n",
    "        return (h ** 2 + k ** 2) / a ** 2 + l ** 2 /  c** 2"
   ]
  },
  {
   "cell_type": "code",
   "execution_count": null,
   "metadata": {},
   "outputs": [],
   "source": []
  },
  {
   "cell_type": "code",
   "execution_count": 134,
   "metadata": {},
   "outputs": [
    {
     "name": "stderr",
     "output_type": "stream",
     "text": [
      "/home/rose/.local/lib/python3.6/site-packages/pandas/core/series.py:726: RuntimeWarning: invalid value encountered in arcsin\n",
      "  result = getattr(ufunc, method)(*inputs, **kwargs)\n"
     ]
    }
   ],
   "source": [
    "\"\"\"\n",
    "For Ba2Y(CuO2)3 \n",
    "\"\"\"\n",
    "df = getAllPlanes(5)\n",
    "# df = df[df[[\"h\", \"k\", \"l\"]].apply(isBodyCentered, axis=1)]\n",
    "a = .3891 # nm\n",
    "c = .12123\n",
    "l = .1542 # nm Cu K alpha radiation\n",
    "df[\"1/d2\"] = df[[\"h\", \"k\", \"l\"]].apply(lambda x: dspace.tetragonal(x, a, c), axis=1)\n",
    "df[\"d\"] = 1/ df[\"1/d2\"]  ** .5\n",
    "df[\"sinq\"] = l / (2 *df[\"d\"])\n",
    "df[\"q_rad\"] = np.arcsin(df[\"sinq\"])\n",
    "df[\"q_deg\"] =  df[\"q_rad\"] * 360/ 2/ np.pi\n",
    "df[\"2q\"] = df[\"q_deg\"] * 2\n",
    "df[\"sinq/l(A)\"] = df[\"sinq\"] / (l * 10)"
   ]
  },
  {
   "cell_type": "code",
   "execution_count": 135,
   "metadata": {},
   "outputs": [],
   "source": [
    "\"\"\"\n",
    "Scattering Factor of Each eleemnt\n",
    "\"\"\" \n",
    "def scattering_factor(s, z, abPairs):\n",
    "    \"\"\"\n",
    "    s = sinq /l (A)\n",
    "    z = Z\n",
    "    ab Pairs: List of tuples \n",
    "    \"\"\"\n",
    "    tot = 41.78214 * s ** 2 \n",
    "    summation = 0\n",
    "    for pair in abPairs:\n",
    "        a, b = pair\n",
    "        summation += a * np.exp(-b * s **2)\n",
    "    return z - tot * summation\n",
    "\n",
    "\n",
    "\n",
    "# for Ba\n",
    "z = 56\n",
    "abPairs = [(7.821, 117.657), (6.004, 18.778), (3.280, 3.263), (1.103, .376)]\n",
    "df[\"f_Ba\"] = df[[\"sinq/l(A)\"]].apply(lambda x: scattering_factor(x, z, abPairs))\n",
    "# for Y\n",
    "z = 39\n",
    "abPairs = [(4.129, 27.548), (3.012, 5.088), (1.179, .591)]\n",
    "df[\"f_Y\"] = df[[\"sinq/l(A)\"]].apply(lambda x: scattering_factor(x, z, abPairs))\n",
    "# for Cu\n",
    "z =29\n",
    "abPairs = [(1.579, 62.940), (1.820, 12.453), (1.658, 2.504), (.532, .333)]\n",
    "df[\"f_Cu\"] = df[[\"sinq/l(A)\"]].apply(lambda x: scattering_factor(x, z, abPairs))\n",
    "# for O\n",
    "z = 8\n",
    "abPairs = [(.455, 23.780), (.917, 7.622), (.472, 2.144), (.138, .296)]\n",
    "df[\"f_O\"] = df[[\"sinq/l(A)\"]].apply(lambda x: scattering_factor(x, z, abPairs))\n"
   ]
  },
  {
   "cell_type": "code",
   "execution_count": 136,
   "metadata": {},
   "outputs": [],
   "source": [
    "data = {\n",
    "\"Ba\": [(1/2, 1/2, 0.19711400), (1/2,1/2,0.80288600)],\n",
    "\"Y\": [(1/2, 1/2,  1/2)],\n",
    "\"Cu\": [(0, 0,0.36812500),(0, 0, 0.63187500 ),(0, 0, 0)],\n",
    "\"O\": [(0, 1/2, 0.62090900) , (1/2, 0,0.37909100), (1/2, 0, 0.62090900), (0, 1/2, 0.37909100), (0 , 0, 0.14934000), (0 , 0,0.85066000)]\n",
    "}"
   ]
  },
  {
   "cell_type": "code",
   "execution_count": 137,
   "metadata": {},
   "outputs": [],
   "source": [
    "def structureFactor(x, data): \n",
    "    def expTerm(coords, h, k, l): \n",
    "        tot = 0\n",
    "        for coord in coords: \n",
    "            a,b,c = coord\n",
    "            tot += np.exp(2 * np.pi * 1j * (a *h + b * k + c * l))\n",
    "        tot = complex(tot)\n",
    "        if abs(tot.imag) <= 1e-10: \n",
    "            tot = tot.real\n",
    "        if abs(tot.real) <= 1e-10: \n",
    "            tot = tot.imag\n",
    "        return tot\n",
    "    \n",
    "    \n",
    "    h, k, l, f_ba, f_y, f_cu, f_o = x \n",
    "\n",
    "    baBuff = f_ba * expTerm(data[\"Ba\"], h, k, l) \n",
    "    yBuff = f_y * expTerm(data[\"Y\"], h, k, l)\n",
    "    cuBuff = f_cu * expTerm(data[\"Cu\"], h, k, l)\n",
    "    oBuff = f_o * expTerm(data[\"O\"], h, k, l)\n",
    "    return baBuff + yBuff + cuBuff + oBuff\n",
    "    \n",
    "    \n",
    "    \n",
    "    \n",
    "    \n",
    "    "
   ]
  },
  {
   "cell_type": "code",
   "execution_count": 138,
   "metadata": {},
   "outputs": [],
   "source": [
    "# If computations cant be made its a forbidden reflection\n",
    "df = df.replace(np.inf, np.nan)\n",
    "df = df.dropna()\n",
    "# Stucture Factors\n",
    "df[\"F\"] = df[[\"h\", \"k\", \"l\", \"f_Ba\", \"f_Y\", \"f_Cu\", \"f_O\"]].apply(lambda x: structureFactor(x, data), axis=1) \n",
    "df[\"F2\"] = df[\"F\"] ** 2"
   ]
  },
  {
   "cell_type": "code",
   "execution_count": 139,
   "metadata": {},
   "outputs": [],
   "source": [
    "# Getting counts of each family\n",
    "df[\"p\"] = df.groupby(\"d\")[\"d\"].transform(\"count\")"
   ]
  },
  {
   "cell_type": "code",
   "execution_count": 140,
   "metadata": {},
   "outputs": [],
   "source": [
    "df[\"(1+cos2(2theta))/(sin2(theta))cos(theta))\"]  = (1 + np.cos(df[\"q_rad\"] ** 2) ** 2) / (np.sin(df[\"q_rad\"]) ** 2 * np.cos(df[\"q_rad\"]))\n",
    "df[\"Intensity\"] = df[\"F2\"] * df[\"p\"] * df[\"(1+cos2(2theta))/(sin2(theta))cos(theta))\"]"
   ]
  },
  {
   "cell_type": "code",
   "execution_count": 141,
   "metadata": {},
   "outputs": [],
   "source": [
    "df = df.sort_values(\"d\")\n",
    "df.to_csv(\"Ba2Y(CuO2).csv\", index=False)\n",
    "\n",
    "\n",
    "# Remove Duplicates\n",
    "df[\"c\"] = df[[\"h\", \"k\", \"l\"]].apply(lambda x: x[0] ** 2 + x[1] **2 + x[2] ** 2 , axis =1 )\n",
    "df[\"s\"] =  df[[\"h\", \"k\", \"l\"]].apply(lambda x: x[0]  + x[1] + x[2] , axis =1 )\n",
    "df = df.sort_values(\"s\",ascending = False)\n",
    "df = df.drop_duplicates(\"c\", keep=\"first\")\n",
    "df = df.drop(columns=[\"s\", \"c\"])\n",
    "\n",
    "df.to_csv(\"Ba2Y(CuO2)_Clean.csv\", index=False)"
   ]
  },
  {
   "cell_type": "code",
   "execution_count": null,
   "metadata": {},
   "outputs": [],
   "source": []
  },
  {
   "cell_type": "code",
   "execution_count": 142,
   "metadata": {},
   "outputs": [],
   "source": [
    "df = pd.read_csv(\"nyloncoords.csv\", names=range(12))"
   ]
  },
  {
   "cell_type": "code",
   "execution_count": 161,
   "metadata": {},
   "outputs": [],
   "source": [
    "buff = {}\n",
    "l = []\n",
    "for i in  range(8): \n",
    "    d = df[range(9, 12)]\n",
    "    if i < 6: \n",
    "        l.append(tuple(d.loc[i, :].to_list()))\n",
    "        buff[\"C\"] = l\n",
    "    elif i == 6: \n",
    "        buff[\"N\"] = tuple(d.loc[i, :].to_list())\n",
    "    else : \n",
    "        buff[\"O\"] = tuple(d.loc[i, :].to_list())"
   ]
  },
  {
   "cell_type": "code",
   "execution_count": null,
   "metadata": {},
   "outputs": [],
   "source": []
  },
  {
   "cell_type": "code",
   "execution_count": null,
   "metadata": {},
   "outputs": [],
   "source": []
  },
  {
   "cell_type": "code",
   "execution_count": null,
   "metadata": {},
   "outputs": [],
   "source": []
  },
  {
   "cell_type": "code",
   "execution_count": null,
   "metadata": {},
   "outputs": [],
   "source": []
  },
  {
   "cell_type": "code",
   "execution_count": null,
   "metadata": {},
   "outputs": [],
   "source": []
  }
 ],
 "metadata": {
  "kernelspec": {
   "display_name": "Python 3",
   "language": "python",
   "name": "python3"
  },
  "language_info": {
   "codemirror_mode": {
    "name": "ipython",
    "version": 3
   },
   "file_extension": ".py",
   "mimetype": "text/x-python",
   "name": "python",
   "nbconvert_exporter": "python",
   "pygments_lexer": "ipython3",
   "version": "3.6.9"
  }
 },
 "nbformat": 4,
 "nbformat_minor": 4
}
