{
 "cells": [
  {
   "cell_type": "code",
   "execution_count": 1,
   "metadata": {},
   "outputs": [],
   "source": [
    "#  ahex. = bhex. = 2.8138 Å and chex. = 14.0516 Å\n",
    "\n",
    "import math\n",
    "from fractions import Fraction\n",
    "\n"
   ]
  },
  {
   "cell_type": "code",
   "execution_count": 97,
   "metadata": {},
   "outputs": [],
   "source": [
    "def toLatexFrac(x): \n",
    "    \"\"\"Decimal to Frac to Latex String\"\"\"\n",
    "    x = Fraction(x)\n",
    "    n, d = x.numerator, x.denominator\n",
    "    return f\"\\\\frac{{{n}}}{{{d}}}\"\n",
    "\n",
    "def exponentTermLatex(coords, simple=False): \n",
    "    \"\"\" exp term e^(2 pi i (h*a + k *b + l * c))\n",
    "    Fully Expanded \n",
    "    coords = tuple/array of size 3\n",
    "    \"\"\"\n",
    "    indicies = [\"h\", \"k\", \"l\"]\n",
    "    buff = \"\"\n",
    "    for i in range(3):\n",
    "        coor = coords[i]\n",
    "        miller_idc = indicies[i]\n",
    "        if coor == 0: \n",
    "            if simple: \n",
    "                term = \"\" \n",
    "            else: \n",
    "                term = \"0\"\n",
    "        elif coor == 1: \n",
    "            term = str(miller_idc)\n",
    "        elif coor%1 == 0: \n",
    "            term = f\"{coor} \\cdot {miller_idc}\"\n",
    "        else: \n",
    "            coor = Fraction(coor)\n",
    "            if coor.numerator == 1: \n",
    "                term = f\"\\\\frac{{{miller_idc}}}{{{coor.denominator}}}\"\n",
    "            else: \n",
    "                term = f\"\\\\frac{{{coor.numerator} {miller_idc}}}{{{coor.denominator}}}\"\n",
    "        if buff == \"\": \n",
    "            buff = term\n",
    "        elif term != \"\" : \n",
    "            buff += \" + \" + term\n",
    "    if buff == \"\": \n",
    "        buff = \"0\"\n",
    "    exp_term = f\"e^{{2 \\\\pi i({buff})}}\"\n",
    "    return exp_term\n",
    "\n",
    "\n",
    "def create_term(name, coords, simple=False): \n",
    "    \"\"\"\n",
    "    Generates term for overal list \n",
    "    coords is a list of coordinate, name should be element\"\"\"\n",
    "    term = f\"\"\n",
    "    cnt = 0\n",
    "    for i in range(len(coords)): \n",
    "        c = coords[i]\n",
    "        exp_term = exponentTermLatex(c, simple=simple)\n",
    "        if cnt == 4: \n",
    "            cnt = 0\n",
    "            term += \"\\\\\\\\ \\n & \\\\hspace{0.2cm} \"\n",
    "        if i == 0: \n",
    "            term = exp_term\n",
    "        else: \n",
    "            term += \" + \" + exp_term \n",
    "        cnt += 1 \n",
    "    return f\"f_{{{name}}} ({term})\"\n",
    "\n",
    "def create_full_general_term(data): \n",
    "    \"\"\"\n",
    "    Creates the full term with just variable names;\n",
    "    data should be a dictionary with key = element name and value = coordinates\n",
    "    \"\"\"\n",
    "    new_line = \" \\\\\\\\ \\n & + \"\n",
    "    eq = \"F_{hkl} =& \\\\hspace{0.2cm} \"\n",
    "    eq_s = \"=& \\\\hspace{0.2cm} \" # Simplified term \n",
    "    for k, v in data.items(): \n",
    "        eq += create_term(k, v) + \" \\\\\\\\ \\n & + \"\n",
    "        eq_s += create_term(k, v, simple=True) + \" \\\\\\\\ \\n & + \"\n",
    "    eq  = eq.strip(new_line)  + \"\\\\\\\\\"\n",
    "    eq_s = eq_s.strip(new_line) + \"\\\\\\\\\"\n",
    "    return eq + eq_s\n",
    "    \n",
    "        \n",
    "    "
   ]
  },
  {
   "cell_type": "code",
   "execution_count": 98,
   "metadata": {},
   "outputs": [
    {
     "name": "stdout",
     "output_type": "stream",
     "text": [
      "F_{hkl} =& \\hspace{0.2cm} f_{o} (e^{2 \\pi i(0 + 0 + 0)} + e^{2 \\pi i(0 + \\frac{k}{2} + \\frac{l}{2})} + e^{2 \\pi i(\\frac{h}{2} + 0 + \\frac{l}{2})} + e^{2 \\pi i(\\frac{h}{2} + \\frac{k}{2} + 0)}) \\\\ \n",
      " & + f_{Li} (e^{2 \\pi i(\\frac{h}{4} + \\frac{k}{4} + \\frac{l}{4})} + e^{2 \\pi i(\\frac{3 h}{4} + \\frac{k}{4} + \\frac{l}{4})} + e^{2 \\pi i(\\frac{h}{4} + \\frac{3 k}{4} + \\frac{l}{4})} + e^{2 \\pi i(\\frac{3 h}{4} + \\frac{3 k}{4} + \\frac{l}{4})}\\\\ \n",
      " & \\hspace{0.2cm}  + e^{2 \\pi i(\\frac{h}{4} + \\frac{k}{4} + \\frac{3 l}{4})} + e^{2 \\pi i(\\frac{3 h}{4} + \\frac{k}{4} + \\frac{3 l}{4})} + e^{2 \\pi i(\\frac{h}{4} + \\frac{3 k}{4} + \\frac{3 l}{4})} + e^{2 \\pi i(\\frac{3 h}{4} + \\frac{3 k}{4} + \\frac{3 l}{4})})\\\\=& \\hspace{0.2cm} f_{o} (e^{2 \\pi i(0)} + e^{2 \\pi i(\\frac{k}{2} + \\frac{l}{2})} + e^{2 \\pi i(\\frac{h}{2} + \\frac{l}{2})} + e^{2 \\pi i(\\frac{h}{2} + \\frac{k}{2})}) \\\\ \n",
      " & + f_{Li} (e^{2 \\pi i(\\frac{h}{4} + \\frac{k}{4} + \\frac{l}{4})} + e^{2 \\pi i(\\frac{3 h}{4} + \\frac{k}{4} + \\frac{l}{4})} + e^{2 \\pi i(\\frac{h}{4} + \\frac{3 k}{4} + \\frac{l}{4})} + e^{2 \\pi i(\\frac{3 h}{4} + \\frac{3 k}{4} + \\frac{l}{4})}\\\\ \n",
      " & \\hspace{0.2cm}  + e^{2 \\pi i(\\frac{h}{4} + \\frac{k}{4} + \\frac{3 l}{4})} + e^{2 \\pi i(\\frac{3 h}{4} + \\frac{k}{4} + \\frac{3 l}{4})} + e^{2 \\pi i(\\frac{h}{4} + \\frac{3 k}{4} + \\frac{3 l}{4})} + e^{2 \\pi i(\\frac{3 h}{4} + \\frac{3 k}{4} + \\frac{3 l}{4})})\\\\\n"
     ]
    }
   ],
   "source": [
    "data ={\"o\": [(0,0,0), (0, 1/2, 1/2), (1/2, 0, 1/2), (1/2, 1/2, 0)], \n",
    "       \"Li\": [(1/4,1/4,1/4), (3/4, 1/4, 1/4), (1/4, 3/4, 1/4), (3/4, 3/4, 1/4), (1/4, 1/4, 3/4), (3/4, 1/4, 3/4), (1/4, 3/4, 3/4), (3/4, 3/4, 3/4)]\n",
    "      }\n",
    "x = create_full_general_term(data)\n"
   ]
  },
  {
   "cell_type": "code",
   "execution_count": null,
   "metadata": {},
   "outputs": [],
   "source": [
    "\n",
    "\n"
   ]
  },
  {
   "cell_type": "code",
   "execution_count": null,
   "metadata": {},
   "outputs": [],
   "source": []
  }
 ],
 "metadata": {
  "kernelspec": {
   "display_name": "Python 3",
   "language": "python",
   "name": "python3"
  },
  "language_info": {
   "codemirror_mode": {
    "name": "ipython",
    "version": 3
   },
   "file_extension": ".py",
   "mimetype": "text/x-python",
   "name": "python",
   "nbconvert_exporter": "python",
   "pygments_lexer": "ipython3",
   "version": "3.6.9"
  }
 },
 "nbformat": 4,
 "nbformat_minor": 4
}
