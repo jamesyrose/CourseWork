{
 "cells": [
  {
   "cell_type": "code",
   "execution_count": 1,
   "metadata": {},
   "outputs": [],
   "source": [
    "#  ahex. = bhex. = 2.8138 Å and chex. = 14.0516 Å\n",
    "\n",
    "import math\n",
    "from fractions import Fraction\n",
    "\n"
   ]
  },
  {
   "cell_type": "code",
   "execution_count": 15,
   "metadata": {},
   "outputs": [],
   "source": [
    "def toLatexFrac(x): \n",
    "    \"\"\"Decimal to Frac to Latex String\"\"\"\n",
    "    x = Fraction(x)\n",
    "    n, d = x.numerator, x.denominator\n",
    "    return f\"\\\\frac{{{n}}}{{{d}}}\"\n",
    "\n",
    "def expontTermLatex(coords): \n",
    "    \"\"\" exp term e^(2 pi i (h*a + k *b + l * c))\n",
    "    Fully Expanded \n",
    "    coords = tuple/array of size 3\n",
    "    \"\"\"\n",
    "    indicies = [\"h\", \"k\", \"l\"]\n",
    "    buff = \"\"\n",
    "    for i in range(3):\n",
    "        coor = coords[i]\n",
    "        if coor == 0: \n",
    "            term = \"0\"\n",
    "        elif coor%1 == 0: \n",
    "            term = f\"{coor} \\cdot h\"\n",
    "        else: \n",
    "            coor = Fraction(coor)\n",
    "            term = f\"\\\\frac{{{coor.numerator} \\cdot h}}{{{coor.denominator}}}\"\n",
    "        if i == 0: \n",
    "            buff = term\n",
    "        else: \n",
    "            buff += \" + \" + term\n",
    "    return buff\n",
    "    "
   ]
  },
  {
   "cell_type": "code",
   "execution_count": 16,
   "metadata": {},
   "outputs": [
    {
     "data": {
      "text/plain": [
       "'\\\\frac{3 \\\\cdot h}{2} + 1 \\\\cdot h + 1 \\\\cdot h'"
      ]
     },
     "execution_count": 16,
     "metadata": {},
     "output_type": "execute_result"
    }
   ],
   "source": [
    "expontTermLatex([1.5,1,1])"
   ]
  },
  {
   "cell_type": "code",
   "execution_count": null,
   "metadata": {},
   "outputs": [],
   "source": []
  }
 ],
 "metadata": {
  "kernelspec": {
   "display_name": "Python 3",
   "language": "python",
   "name": "python3"
  },
  "language_info": {
   "codemirror_mode": {
    "name": "ipython",
    "version": 3
   },
   "file_extension": ".py",
   "mimetype": "text/x-python",
   "name": "python",
   "nbconvert_exporter": "python",
   "pygments_lexer": "ipython3",
   "version": "3.6.9"
  }
 },
 "nbformat": 4,
 "nbformat_minor": 4
}
