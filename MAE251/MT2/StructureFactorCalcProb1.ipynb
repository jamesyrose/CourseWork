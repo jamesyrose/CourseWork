{
 "cells": [
  {
   "cell_type": "code",
   "execution_count": 1,
   "metadata": {},
   "outputs": [],
   "source": [
    "import numpy as np"
   ]
  },
  {
   "cell_type": "code",
   "execution_count": 4,
   "metadata": {},
   "outputs": [],
   "source": [
    "h, k, l = 1, 1, 1\n",
    "def func(h, k, l): \n",
    "    def term(a, b, c): \n",
    "        return np.exp(2 * np.pi * 1j * (h /a + k /b + l / c))\n",
    "    return term(4,4,4)"
   ]
  },
  {
   "cell_type": "code",
   "execution_count": 5,
   "metadata": {},
   "outputs": [
    {
     "data": {
      "text/plain": [
       "(-1.8369701987210297e-16-1j)"
      ]
     },
     "execution_count": 5,
     "metadata": {},
     "output_type": "execute_result"
    }
   ],
   "source": []
  },
  {
   "cell_type": "code",
   "execution_count": null,
   "metadata": {},
   "outputs": [],
   "source": [
    "\n"
   ]
  },
  {
   "cell_type": "code",
   "execution_count": 252,
   "metadata": {},
   "outputs": [],
   "source": [
    "from fractions import Fraction\n",
    "\n",
    "def first_line(h, k, l): \n",
    "    s =r\"\"\" f_{o}  (e^{2 \\pi i (0)} \n",
    "\t\t+ e^{2 \\pi i (0 + \\frac{k}{2} + \\frac{l}{2}))} \n",
    "\t\t+ e^{2 \\pi i (\\frac{h}{2} + 0 + \\frac{l}{2})} \n",
    "\t\t+ e^{2 \\pi i (\\frac{h}{2} + \\frac{k}{2} + 0)})  \\\\\n",
    "\t\t &+ f_{Li} (e^{2 \\pi i (\\frac{h}{4} + \\frac{k}{4} + \\frac{l}{4})}  \n",
    "\t\t + e^{2 \\pi i (\\frac{3 \\cdot h}{4} + \\frac{k}{4} + \\frac{l}{4})} \n",
    "\t\t + e^{2 \\pi i (\\frac{h}{4} + \\frac{3 \\cdot k}{4} + \\frac{l}{4})} \n",
    "\t\t + e^{2 \\pi i (\\frac{3 \\cdot h}{4} + \\frac{3 \\cdot k}{4} + \\frac{l}{4})} \\\\\n",
    "\t\t &+ e^{2 \\pi i (\\frac{h}{4} + \\frac{k}{4} + \\frac{3 \\cdot l}{4})}\n",
    "\t\t  + e^{2 \\pi i (\\frac{3 \\cdot h}{4} + \\frac{k}{4} + \\frac{3 \\cdot l}{4})} \n",
    "\t\t  + e^{2 \\pi i (\\frac{h}{4} + \\frac{3 \\cdot k}{4} + \\frac{3 \\cdot l}{4})} \n",
    "\t\t  + e^{2 \\pi i (\\frac{3 \\cdot h}{4} + \\frac{3 \\cdot k}{4} + \\frac{3 \\cdot l}{4})}) \\\\\"\"\"\n",
    "    s = s.replace(\"h\", str(h)).replace(\"k\", str(k)).replace(\"l\", str(l))\n",
    "    return s\n",
    "\n",
    "def second_line(h, k, l): \n",
    "    s =r\"\"\" f_{o}  (e^{2 \\pi i (r0)} \n",
    "\t\t+ e^{2 \\pi i (r1)} \n",
    "\t\t+ e^{2 \\pi i (r2)} \n",
    "\t\t+ e^{2 \\pi i (r3)})  \\\\\n",
    "\t\t &+ f_{Li} (e^{2 \\pi i (r4)}  \n",
    "\t\t + e^{2 \\pi i (r5)} \n",
    "\t\t + e^{2 \\pi i (r6)} \n",
    "\t\t + e^{2 \\pi i (r7)} \\\\\n",
    "\t\t &+ e^{2 \\pi i (r8)}\n",
    "\t\t  + e^{2 \\pi i (r9)} \n",
    "\t\t  + e^{2 \\pi i (r10)} \n",
    "\t\t  + e^{2 \\pi i (r11)}) \\\\\"\"\"\n",
    "    elements = [(0,0,0), (0, 1/2, 1/2), (1/2, 0, 1/2), (1/2, 1/2, 0),\n",
    "                (1/4,1/4,1/4), (3/4, 1/4, 1/4), (1/4, 3/4, 1/4), \n",
    "                (3/4, 3/4, 1/4), (1/4, 1/4, 3/4), (3/4, 1/4, 3/4), \n",
    "                (1/4, 3/4, 3/4), (3/4, 3/4, 3/4) ]\n",
    "    elements = [Fraction(a[0] * h +   a[1] * k  + a[2] * l) for  a in elements]\n",
    "    for i in reversed(range(len(elements))): \n",
    "        n, d = elements[i].numerator, elements[i].denominator\n",
    "        if n == 0:\n",
    "            s = s.replace(f\"r{i}\", \"0\")\n",
    "        elif n == d: \n",
    "            s = s.replace(f\"r{i}\",  \"1\")\n",
    "        elif d == 1: \n",
    "            s = s.replace(f\"r{i}\",  str(n))\n",
    "        else:             \n",
    "            s = s.replace(f\"r{i}\", f\"\\\\frac{{{n}}}{{{d}}}\")\n",
    "    return s\n",
    "\n",
    "def third_line(h, k, l):\n",
    "    s =r\"\"\" f_{o}  (r0  + r1 + r2 + r3) + f_{Li}(r4 + r5 + r6 + r7 + r8 + r9 + r10 + r11) \\\\\"\"\"\n",
    "    elements = [(0,0,0), (0, 1/2, 1/2), (1/2, 0, 1/2), (1/2, 1/2, 0),\n",
    "                (1/4,1/4,1/4), (3/4, 1/4, 1/4), (1/4, 3/4, 1/4), \n",
    "                (3/4, 3/4, 1/4), (1/4, 1/4, 3/4), (3/4, 1/4, 3/4), \n",
    "                (1/4, 3/4, 3/4), (3/4, 3/4, 3/4) ]\n",
    "    elements = [Fraction(a[0] * h +   a[1] * k  + a[2] * l) for  a in elements]\n",
    "    o_sum, li_sum = 0,0\n",
    "    for i in reversed(range(len(elements))): \n",
    "        n, d = elements[i].numerator, elements[i].denominator\n",
    "        whole = np.cos( 2 * np.pi * n/d)\n",
    "        if abs(whole) < 1e-10: \n",
    "            whole = 0\n",
    "        imag = np.sin(2 * np .pi * n/d)\n",
    "        if abs(imag) < 1e-10: \n",
    "            imag = 0\n",
    "        if imag == 0 and whole == 0:  \n",
    "            term = 0\n",
    "        elif imag == 0 and whole != 0: \n",
    "            term = int(whole)\n",
    "            if i <=3: \n",
    "                o_sum += whole\n",
    "            else: \n",
    "                li_sum += whole\n",
    "        elif imag != 0 and whole == 0: \n",
    "            if i<=3:\n",
    "                o_sum += 1j * imag\n",
    "            else:\n",
    "                li_sum += 1j * imag\n",
    "            if imag == -1: \n",
    "                term = \"(-i)\"\n",
    "            else: \n",
    "                term = \"(i)\"\n",
    "        else: \n",
    "            term = f\"{whole} + {imag}i\"\n",
    "        s = s.replace(f\"r{i}\", str(term))\n",
    "    # Summing everything\n",
    "    summed_str = \"\"\n",
    "    if isinstance(o_sum, complex): \n",
    "        o_real_val = int((o_sum / 1j).real)\n",
    "        if o_real_val != 0:\n",
    "            o_sum  = str( f\"{o_real_val}i\")\n",
    "            summed_str = summed_str + f\"{o_sum}f_{{o}}\"\n",
    "    else: \n",
    "        if o_sum != 0:\n",
    "            o_sum = str(int(o_sum))\n",
    "            summed_str = summed_str + f\"{o_sum}f_{{o}} \"\n",
    "    \n",
    "    if isinstance(li_sum, complex): \n",
    "        li_real_val = int((li_sum / 1j).real)\n",
    "        if li_real_val != 0:\n",
    "            if li_real_val > 0:\n",
    "                if summed_str == \"\": \n",
    "                    li_sum = \" + \"  +  str( f\"{li_real_val}i\")\n",
    "                else: \n",
    "                    li_sum = str( f\"{li_real_val}i\")\n",
    "            else: \n",
    "                li_sum = \" - \"  +  str( f\"{abs(li_real_val)}i\")\n",
    "            summed_str = summed_str + f\" {li_sum}f_{{Li}}\"\n",
    "    else: \n",
    "        if li_sum != 0:\n",
    "            if li_sum > 0:\n",
    "                if summed_str != \"\": \n",
    "                    li_sum = \" + \"  +  str(int(li_sum))\n",
    "                else: \n",
    "                    li_sum = str(int(li_sum))\n",
    "            else: \n",
    "                li_sum = \" - \"  +  str(abs(int(li_sum)))\n",
    "            summed_str = summed_str + f\" {li_sum}f_{{Li}}\"\n",
    "\n",
    "\n",
    "    return s, summed_str"
   ]
  },
  {
   "cell_type": "code",
   "execution_count": 253,
   "metadata": {},
   "outputs": [],
   "source": [
    "def whole_factor(h, k, l):\n",
    "    first = first_line(h, k, l )\n",
    "    second = second_line(h, k, l )\n",
    "    third, fourth = third_line(h, k, l )\n",
    "    final_str = f\"\"\"\n",
    "                \\\\noindent\\\\rule{{12cm}}{{0.4pt}}\n",
    "                \\\\begin{{align*}}\n",
    "                F_{{{h}{k}{l}}} =& \\\\hspace{{0.2cm}} {first}  \n",
    "                =& \\\\hspace{{0.2cm}} {second}\n",
    "                =& \\\\hspace{{0.2cm}} {third}\n",
    "                =& \\\\hspace{{0.2cm}} {fourth}\n",
    "                \\\\end{{align*}}\n",
    "    \"\"\"\n",
    "    print(third)\n",
    "    return final_str"
   ]
  },
  {
   "cell_type": "code",
   "execution_count": 254,
   "metadata": {},
   "outputs": [
    {
     "name": "stdout",
     "output_type": "stream",
     "text": [
      " f_{o}  (1  + 1 + 1 + 1) + f_{Li}((-i) + (i) + (i) + (-i) + (i) + (-i) + (-i) + (i)) \\\\\n",
      " f_{o}  (1  + 1 + 1 + 1) + f_{Li}(-1 + -1 + -1 + -1 + -1 + -1 + -1 + -1) \\\\\n",
      " f_{o}  (1  + 1 + 1 + 1) + f_{Li}(1 + 1 + 1 + 1 + 1 + 1 + 1 + 1) \\\\\n",
      " f_{o}  (1  + 1 + 1 + 1) + f_{Li}((i) + (-i) + (-i) + (i) + (-i) + (i) + (i) + (-i)) \\\\\n",
      " f_{o}  (1  + 1 + 1 + 1) + f_{Li}(-1 + -1 + -1 + -1 + -1 + -1 + -1 + -1) \\\\\n",
      " f_{o}  (1  + 1 + 1 + 1) + f_{Li}(1 + 1 + 1 + 1 + 1 + 1 + 1 + 1) \\\\\n",
      " f_{o}  (1  + 1 + 1 + 1) + f_{Li}((-i) + (i) + (i) + (-i) + (i) + (-i) + (-i) + (i)) \\\\\n",
      " f_{o}  (1  + 1 + 1 + 1) + f_{Li}(-1 + -1 + -1 + -1 + -1 + -1 + -1 + -1) \\\\\n",
      " f_{o}  (1  + 1 + 1 + 1) + f_{Li}(1 + 1 + 1 + 1 + 1 + 1 + 1 + 1) \\\\\n",
      " f_{o}  (1  + 1 + 1 + 1) + f_{Li}((i) + (-i) + (-i) + (i) + (-i) + (i) + (i) + (-i)) \\\\\n",
      " f_{o}  (1  + 1 + 1 + 1) + f_{Li}((-i) + (i) + (i) + (-i) + (i) + (-i) + (-i) + (i)) \\\\\n",
      " f_{o}  (1  + 1 + 1 + 1) + f_{Li}(1 + 1 + 1 + 1 + 1 + 1 + 1 + 1) \\\\\n",
      " f_{o}  (1  + 1 + 1 + 1) + f_{Li}((i) + (-i) + (-i) + (i) + (-i) + (i) + (i) + (-i)) \\\\\n",
      " f_{o}  (1  + 1 + 1 + 1) + f_{Li}(-1 + -1 + -1 + -1 + -1 + -1 + -1 + -1) \\\\\n",
      " f_{o}  (1  + 1 + 1 + 1) + f_{Li}(-1 + -1 + -1 + -1 + -1 + -1 + -1 + -1) \\\\\n",
      " f_{o}  (1  + 1 + 1 + 1) + f_{Li}(1 + 1 + 1 + 1 + 1 + 1 + 1 + 1) \\\\\n"
     ]
    }
   ],
   "source": [
    "hkls = [(1,1,1), (2,0,0), (2,2,0), (3,1,1), (2,2,2), (4,0,0), (3,3,1), (4,2,0), (4,2,2), (3,3,3), (5,1,1), (4,4,0), (5,3,1), (4,4,2), (6,0,0), (6,2,0)]\n",
    "\n",
    "with open(\"temp.txt\", \"w\") as f: \n",
    "    for a in hkls:\n",
    "        h = a[0]\n",
    "        k = a[1]\n",
    "        l = a[2]\n",
    "        f.writelines(whole_factor(h, k, l))\n",
    "    f.close()"
   ]
  },
  {
   "cell_type": "code",
   "execution_count": 250,
   "metadata": {},
   "outputs": [],
   "source": [
    "hkls = [(1,1,1), (2,0,0), (2,2,0), (3,1,1), (2,2,2), (4,0,0), (3,3,1), (4,2,0), (4,2,2), (3,3,3), (5,1,1), (4,4,0), (5,3,1), (4,4,2), (6,0,0), (6,2,0)]"
   ]
  },
  {
   "cell_type": "code",
   "execution_count": 251,
   "metadata": {},
   "outputs": [
    {
     "data": {
      "text/plain": [
       "Fraction(6, 1)"
      ]
     },
     "execution_count": 251,
     "metadata": {},
     "output_type": "execute_result"
    }
   ],
   "source": [
    "Fraction(6)"
   ]
  },
  {
   "cell_type": "code",
   "execution_count": null,
   "metadata": {},
   "outputs": [],
   "source": []
  },
  {
   "cell_type": "code",
   "execution_count": null,
   "metadata": {},
   "outputs": [],
   "source": []
  }
 ],
 "metadata": {
  "kernelspec": {
   "display_name": "Python 3",
   "language": "python",
   "name": "python3"
  },
  "language_info": {
   "codemirror_mode": {
    "name": "ipython",
    "version": 3
   },
   "file_extension": ".py",
   "mimetype": "text/x-python",
   "name": "python",
   "nbconvert_exporter": "python",
   "pygments_lexer": "ipython3",
   "version": "3.6.9"
  }
 },
 "nbformat": 4,
 "nbformat_minor": 4
}
